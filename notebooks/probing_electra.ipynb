{
 "cells": [
  {
   "cell_type": "code",
   "execution_count": 1,
   "id": "521f6794",
   "metadata": {},
   "outputs": [],
   "source": [
    "from transformers import AutoTokenizer, AutoModel\n",
    "import senteval\n",
    "import torch\n",
    "import torch.nn as nn\n",
    "import json\n",
    "import os\n",
    "\n",
    "fs = os.listdir(\"..\")\n",
    "if not \"SentEval\" in fs:\n",
    "    %cd ./..\n",
    "    !git clone git@github.com:facebookresearch/SentEval.git\n",
    "    %cd notebooks\n",
    "    %mkdir data\n",
    "\n",
    "PATH_TO_DATA = \"../SentEval/data\"\n",
    "DEVICE = \"cuda:0\""
   ]
  },
  {
   "cell_type": "markdown",
   "id": "5e04a980",
   "metadata": {},
   "source": [
    "# ELECTRA"
   ]
  },
  {
   "cell_type": "code",
   "execution_count": 2,
   "id": "b56d3905",
   "metadata": {},
   "outputs": [],
   "source": [
    "def batch_to_device(d, device):\n",
    "    return {k: v.to(device) for k, v in d.items()}\n",
    "    \n",
    "class MeanPooling(nn.Module):\n",
    "    def __init__(self, starting_state):\n",
    "        super().__init__()\n",
    "        self.starting_state = starting_state\n",
    "\n",
    "    def forward(self, x, attention_mask):\n",
    "        input_mask_expanded = attention_mask.unsqueeze(-1).expand(x.size()).float()\n",
    "        emb_sum = torch.sum(x * input_mask_expanded, dim=1)\n",
    "        sum_mask = torch.clamp(input_mask_expanded.sum(dim=1), min=1e-9) # denominator\n",
    "        emb_mean = emb_sum / sum_mask\n",
    "        return emb_mean\n",
    "\n",
    "class Electra:\n",
    "\n",
    "    def __init__(self, starting_state=12, path=None):\n",
    "        self.tokenizer = AutoTokenizer.from_pretrained(\"google/electra-base-discriminator\")\n",
    "        if path is None:\n",
    "            self.model = AutoModel.from_pretrained(\"google/electra-base-discriminator\").to(DEVICE)\n",
    "        else:\n",
    "            self.model = torch.load(path).to(DEVICE)\n",
    "        self.pooling = MeanPooling(starting_state)\n",
    "    \n",
    "    def prepare(self, params, samples):\n",
    "        pass \n",
    "    \n",
    "    @torch.no_grad()\n",
    "    def batcher(self, params, batch):\n",
    "        tokenized_batch = self.tokenizer(\n",
    "            batch, truncation=True, padding=True, return_tensors=\"pt\", is_split_into_words=True\n",
    "        )\n",
    "        batch_device = batch_to_device(tokenized_batch, DEVICE)\n",
    "        out = self.model(\n",
    "            **batch_device, output_hidden_states=True\n",
    "        ).hidden_states[self.pooling.starting_state]\n",
    "        out_mean = self.pooling(out, batch_device[\"attention_mask\"])\n",
    "        return out_mean.cpu()\n",
    "\n"
   ]
  },
  {
   "cell_type": "code",
   "execution_count": 3,
   "id": "1cfdc71c",
   "metadata": {},
   "outputs": [],
   "source": [
    "models = [\n",
    "    \"model_2024_01_18_01_15\",\n",
    "    \"model_2024_01_18_01_17\",\n",
    "    \"model_2024_01_18_01_18\",\n",
    "    \"model_2024_01_18_01_20\",\n",
    "    \"model_2024_01_18_01_22\",\n",
    "    \"model_2024_01_18_01_24\",\n",
    "    \"model_2024_01_18_01_26\",\n",
    "    \"model_2024_01_18_01_29\",\n",
    "    \"model_2024_01_18_01_31\",\n",
    "    \"model_2024_01_18_01_34\",\n",
    "    \"model_2024_01_18_01_37\",\n",
    "    \"model_2024_01_18_01_40\",\n",
    "    \"model_2024_01_17_16_15\",\n",
    "]"
   ]
  },
  {
   "cell_type": "code",
   "execution_count": 7,
   "id": "83e85319",
   "metadata": {},
   "outputs": [
    {
     "name": "stdout",
     "output_type": "stream",
     "text": [
      "Starting state 7 -- 47.46\n",
      "Starting state 8 -- 44.25\n",
      "Starting state 9 -- 38.11\n",
      "Starting state 10 -- 34.15\n",
      "Starting state 11 -- 32.07\n",
      "Starting state 12 -- 24.14\n"
     ]
    }
   ],
   "source": [
    "word_content_electra = []\n",
    "for i, model_path in enumerate(models):\n",
    "    params = {'task_path': PATH_TO_DATA, 'usepytorch': True, 'kfold': 10}\n",
    "    params['classifier'] = {'nhid': 0, 'optim': 'adam', 'batch_size': 64, 'tenacity': 5, 'epoch_size': 4}\n",
    "\n",
    "    electra = Electra(starting_state=i, path=f\"../output/google-electra-base-discriminator/mean/{i}_to_{i+1}/{model_path}.pkl\")\n",
    "    se = senteval.engine.SE(params, electra.batcher, electra.prepare)\n",
    "\n",
    "    transfer_tasks = [\n",
    "        'WordContent', \n",
    "    ]\n",
    "\n",
    "    results = se.eval(transfer_tasks)\n",
    "    print(f\"Starting state {i} -- {results['WordContent']['devacc']}\")\n",
    "    word_content_electra.append(results[\"WordContent\"][\"devacc\"])"
   ]
  },
  {
   "cell_type": "code",
   "execution_count": 8,
   "id": "4bd02d4c",
   "metadata": {},
   "outputs": [
    {
     "name": "stdout",
     "output_type": "stream",
     "text": [
      "13\n"
     ]
    }
   ],
   "source": [
    "vals=[96.8,90.06,78.63,73.76,68.59,59.57,54.65,\n",
    "     47.46,44.25,38.11,34.15,32.07,24.14]\n",
    "\n",
    "print(len(vals))"
   ]
  },
  {
   "cell_type": "code",
   "execution_count": 10,
   "id": "0bce5460",
   "metadata": {},
   "outputs": [
    {
     "data": {
      "text/plain": [
       "[<matplotlib.lines.Line2D at 0x7f6dec31d480>]"
      ]
     },
     "execution_count": 10,
     "metadata": {},
     "output_type": "execute_result"
    },
    {
     "data": {
      "image/png": "[encoded data removed]",
      "text/plain": [
       "<Figure size 640x480 with 1 Axes>"
      ]
     },
     "metadata": {},
     "output_type": "display_data"
    }
   ],
   "source": [
    "import matplotlib.pyplot as plt\n",
    "\n",
    "plt.plot(vals)"
   ]
  },
  {
   "cell_type": "code",
   "execution_count": null,
   "id": "c2baa2fc",
   "metadata": {},
   "outputs": [],
   "source": [
    "plt.plot(list(range(len(word_content_electra)), word_content_electra)"
   ]
  }
 ],
 "metadata": {
  "kernelspec": {
   "display_name": "Python 3 (ipykernel)",
   "language": "python",
   "name": "python3"
  },
  "language_info": {
   "codemirror_mode": {
    "name": "ipython",
    "version": 3
   },
   "file_extension": ".py",
   "mimetype": "text/x-python",
   "name": "python",
   "nbconvert_exporter": "python",
   "pygments_lexer": "ipython3",
   "version": "3.10.12"
  }
 },
 "nbformat": 4,
 "nbformat_minor": 5
}
