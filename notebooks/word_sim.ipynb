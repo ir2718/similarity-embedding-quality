{
 "cells": [
  {
   "cell_type": "code",
   "execution_count": 70,
   "id": "666c787b",
   "metadata": {},
   "outputs": [
    {
     "name": "stdout",
     "output_type": "stream",
     "text": [
      "(4852, 3)\n"
     ]
    },
    {
     "data": {
      "text/html": [
       "<div>\n",
       "<style scoped>\n",
       "    .dataframe tbody tr th:only-of-type {\n",
       "        vertical-align: middle;\n",
       "    }\n",
       "\n",
       "    .dataframe tbody tr th {\n",
       "        vertical-align: top;\n",
       "    }\n",
       "\n",
       "    .dataframe thead th {\n",
       "        text-align: right;\n",
       "    }\n",
       "</style>\n",
       "<table border=\"1\" class=\"dataframe\">\n",
       "  <thead>\n",
       "    <tr style=\"text-align: right;\">\n",
       "      <th></th>\n",
       "      <th>word_1</th>\n",
       "      <th>word_2</th>\n",
       "      <th>label</th>\n",
       "    </tr>\n",
       "  </thead>\n",
       "  <tbody>\n",
       "    <tr>\n",
       "      <th>0</th>\n",
       "      <td>Arafat</td>\n",
       "      <td>Jackson</td>\n",
       "      <td>2.051282</td>\n",
       "    </tr>\n",
       "    <tr>\n",
       "      <th>1</th>\n",
       "      <td>Arafat</td>\n",
       "      <td>peace</td>\n",
       "      <td>2.575</td>\n",
       "    </tr>\n",
       "    <tr>\n",
       "      <th>2</th>\n",
       "      <td>Arafat</td>\n",
       "      <td>terror</td>\n",
       "      <td>3.125</td>\n",
       "    </tr>\n",
       "    <tr>\n",
       "      <th>3</th>\n",
       "      <td>FBI</td>\n",
       "      <td>fingerprint</td>\n",
       "      <td>3.210526</td>\n",
       "    </tr>\n",
       "    <tr>\n",
       "      <th>4</th>\n",
       "      <td>FBI</td>\n",
       "      <td>investigation</td>\n",
       "      <td>4.789474</td>\n",
       "    </tr>\n",
       "  </tbody>\n",
       "</table>\n",
       "</div>"
      ],
      "text/plain": [
       "   word_1         word_2     label\n",
       "0  Arafat        Jackson  2.051282\n",
       "1  Arafat          peace     2.575\n",
       "2  Arafat         terror     3.125\n",
       "3     FBI    fingerprint  3.210526\n",
       "4     FBI  investigation  4.789474"
      ]
     },
     "execution_count": 70,
     "metadata": {},
     "output_type": "execute_result"
    }
   ],
   "source": [
    "from torch.utils.data import DataLoader\n",
    "import math\n",
    "from sentence_transformers import SentenceTransformer,  LoggingHandler, losses, models, util\n",
    "from sentence_transformers.evaluation import EmbeddingSimilarityEvaluator\n",
    "from sentence_transformers.readers import InputExample\n",
    "import logging\n",
    "from datetime import datetime\n",
    "import sys\n",
    "import os\n",
    "import gzip\n",
    "import csv\n",
    "from sklearn.metrics.pairwise import paired_cosine_distances\n",
    "from scipy.stats import spearmanr, pearsonr\n",
    "import pandas as pd\n",
    "import random\n",
    "import numpy as np\n",
    "data = pd.read_csv(\"../datasets/explicitsim353.csv\").values\n",
    "data2 = pd.read_csv(\"../datasets/SimLex-999.txt\", delimiter=\"\\t\")[[\"word1\",\"word2\",\"SimLex999\"]].values\n",
    "data3 = pd.read_csv(\"../datasets/SimVerb-3500.txt\", delimiter=\"\\t\", header=None, usecols=[0,1,3]).values\n",
    "data = np.concatenate((data, data2, data3), axis=0)\n",
    "test = pd.DataFrame.from_dict({\n",
    "    \"word_1\": data[:, 0],\n",
    "    \"word_2\": data[:, 1],\n",
    "    \"label\": data[:, 2],\n",
    "})\n",
    "print(test.shape)\n",
    "test.head()"
   ]
  },
  {
   "cell_type": "code",
   "execution_count": 71,
   "id": "89681368",
   "metadata": {},
   "outputs": [
    {
     "data": {
      "text/plain": [
       "(['Arafat', 'Jackson'], 2.05128205128)"
      ]
     },
     "execution_count": 71,
     "metadata": {},
     "output_type": "execute_result"
    }
   ],
   "source": [
    "test_samples = [InputExample(texts=[x[0], x[1]], label=x[2]) for x in test.values.tolist()]\n",
    "test_samples[0].texts, test_samples[0].label"
   ]
  },
  {
   "cell_type": "code",
   "execution_count": 72,
   "id": "ed9f997f",
   "metadata": {},
   "outputs": [
    {
     "name": "stdout",
     "output_type": "stream",
     "text": [
      "2024-01-01 22:34:44 - Use pytorch device_name: cuda\n",
      "2024-01-01 22:34:44 - EmbeddingSimilarityEvaluator: Evaluating the model on  dataset:\n",
      "2024-01-01 22:34:47 - Cosine-Similarity :\tPearson: 0.0596\tSpearman: 0.1217\n",
      "2024-01-01 22:34:47 - Manhattan-Distance:\tPearson: 0.1299\tSpearman: 0.1496\n",
      "2024-01-01 22:34:47 - Euclidean-Distance:\tPearson: 0.1050\tSpearman: 0.1391\n",
      "2024-01-01 22:34:47 - Dot-Product-Similarity:\tPearson: 0.0119\tSpearman: 0.0462\n"
     ]
    },
    {
     "data": {
      "text/plain": [
       "0.14963856420732158"
      ]
     },
     "execution_count": 72,
     "metadata": {},
     "output_type": "execute_result"
    }
   ],
   "source": [
    "word_embedding_model = models.Transformer(\"bert-base-cased\")\n",
    "pooling_model = models.Pooling(\n",
    "    word_embedding_model.get_word_embedding_dimension(),\n",
    "    pooling_mode_mean_tokens=True,\n",
    "    pooling_mode_cls_token=False,\n",
    "    pooling_mode_max_tokens=False\n",
    ")\n",
    "model_bert = SentenceTransformer(modules=[word_embedding_model, pooling_model])\n",
    "\n",
    "test_evaluator = EmbeddingSimilarityEvaluator.from_input_examples(test_samples)\n",
    "test_evaluator(model_bert)"
   ]
  },
  {
   "cell_type": "code",
   "execution_count": 73,
   "id": "a5f12bb1",
   "metadata": {},
   "outputs": [
    {
     "name": "stdout",
     "output_type": "stream",
     "text": [
      "2024-01-01 22:34:48 - Use pytorch device_name: cuda\n",
      "2024-01-01 22:34:48 - EmbeddingSimilarityEvaluator: Evaluating the model on  dataset:\n",
      "2024-01-01 22:34:52 - Cosine-Similarity :\tPearson: 0.0475\tSpearman: 0.0484\n",
      "2024-01-01 22:34:52 - Manhattan-Distance:\tPearson: 0.0472\tSpearman: 0.0459\n",
      "2024-01-01 22:34:52 - Euclidean-Distance:\tPearson: 0.0476\tSpearman: 0.0462\n",
      "2024-01-01 22:34:52 - Dot-Product-Similarity:\tPearson: 0.0471\tSpearman: 0.0463\n"
     ]
    },
    {
     "data": {
      "text/plain": [
       "0.048398721025649974"
      ]
     },
     "execution_count": 73,
     "metadata": {},
     "output_type": "execute_result"
    }
   ],
   "source": [
    "word_embedding_model2 = models.Transformer(\"google/electra-base-discriminator\")\n",
    "pooling_model2 = models.Pooling(\n",
    "    word_embedding_model.get_word_embedding_dimension(),\n",
    "    pooling_mode_mean_tokens=True,\n",
    "    pooling_mode_cls_token=False,\n",
    "    pooling_mode_max_tokens=False\n",
    ")\n",
    "model_electra = SentenceTransformer(modules=[word_embedding_model2, pooling_model2])\n",
    "\n",
    "test_evaluator = EmbeddingSimilarityEvaluator.from_input_examples(test_samples)\n",
    "test_evaluator(model_electra)"
   ]
  },
  {
   "cell_type": "code",
   "execution_count": 74,
   "id": "328dc9b0",
   "metadata": {},
   "outputs": [
    {
     "name": "stdout",
     "output_type": "stream",
     "text": [
      "2024-01-01 22:34:52 - Use pytorch device_name: cuda\n",
      "2024-01-01 22:34:52 - EmbeddingSimilarityEvaluator: Evaluating the model on  dataset:\n",
      "2024-01-01 22:34:56 - Cosine-Similarity :\tPearson: 0.2397\tSpearman: 0.2292\n",
      "2024-01-01 22:34:56 - Manhattan-Distance:\tPearson: 0.2515\tSpearman: 0.2331\n",
      "2024-01-01 22:34:56 - Euclidean-Distance:\tPearson: 0.2464\tSpearman: 0.2292\n",
      "2024-01-01 22:34:56 - Dot-Product-Similarity:\tPearson: 0.2290\tSpearman: 0.2220\n"
     ]
    },
    {
     "data": {
      "text/plain": [
       "0.23312377630761782"
      ]
     },
     "execution_count": 74,
     "metadata": {},
     "output_type": "execute_result"
    }
   ],
   "source": [
    "import torch \n",
    "word_embedding_model = models.Transformer(\"bert-base-cased\")\n",
    "word_embedding_model.auto_model = torch.load(\"../output/bert-base-cased/mean/12_to_13/model_2024_01_01_03_16.pkl\")\n",
    "pooling_model = models.Pooling(\n",
    "    word_embedding_model.get_word_embedding_dimension(),\n",
    "    pooling_mode_mean_tokens=True,\n",
    "    pooling_mode_cls_token=False,\n",
    "    pooling_mode_max_tokens=False\n",
    ")\n",
    "model_bert = SentenceTransformer(modules=[word_embedding_model, pooling_model])\n",
    "\n",
    "test_evaluator = EmbeddingSimilarityEvaluator.from_input_examples(test_samples)\n",
    "test_evaluator(model_bert)"
   ]
  },
  {
   "cell_type": "code",
   "execution_count": 75,
   "id": "3ac07335",
   "metadata": {},
   "outputs": [
    {
     "name": "stdout",
     "output_type": "stream",
     "text": [
      "2024-01-01 22:34:57 - Use pytorch device_name: cuda\n",
      "2024-01-01 22:34:57 - EmbeddingSimilarityEvaluator: Evaluating the model on  dataset:\n",
      "2024-01-01 22:35:00 - Cosine-Similarity :\tPearson: 0.0566\tSpearman: 0.0545\n",
      "2024-01-01 22:35:00 - Manhattan-Distance:\tPearson: 0.0530\tSpearman: 0.0481\n",
      "2024-01-01 22:35:00 - Euclidean-Distance:\tPearson: 0.0507\tSpearman: 0.0459\n",
      "2024-01-01 22:35:00 - Dot-Product-Similarity:\tPearson: 0.0643\tSpearman: 0.0630\n"
     ]
    },
    {
     "data": {
      "text/plain": [
       "0.0630188068112915"
      ]
     },
     "execution_count": 75,
     "metadata": {},
     "output_type": "execute_result"
    }
   ],
   "source": [
    "word_embedding_model2 = models.Transformer(\"google/electra-base-discriminator\")\n",
    "word_embedding_model2.auto_model = torch.load(\"../output/google-electra-base-discriminator/mean/12_to_13/model_2024_01_01_03_16.pkl\")\n",
    "pooling_model2 = models.Pooling(\n",
    "    word_embedding_model.get_word_embedding_dimension(),\n",
    "    pooling_mode_mean_tokens=True,\n",
    "    pooling_mode_cls_token=False,\n",
    "    pooling_mode_max_tokens=False\n",
    ")\n",
    "model_electra = SentenceTransformer(modules=[word_embedding_model2, pooling_model2])\n",
    "\n",
    "test_evaluator = EmbeddingSimilarityEvaluator.from_input_examples(test_samples)\n",
    "test_evaluator(model_electra)"
   ]
  },
  {
   "cell_type": "code",
   "execution_count": 65,
   "id": "b693cf94",
   "metadata": {},
   "outputs": [],
   "source": [
    "model_name = \"google/electra-base-discriminator\"\n",
    "num_epochs = 50"
   ]
  },
  {
   "cell_type": "code",
   "execution_count": 66,
   "id": "f08b0cae",
   "metadata": {
    "scrolled": true
   },
   "outputs": [
    {
     "name": "stdout",
     "output_type": "stream",
     "text": [
      "2024-01-01 22:25:29 - ##### Seed 0 #####\n",
      "2024-01-01 22:25:30 - Use pytorch device_name: cuda\n",
      "2024-01-01 22:25:30 - Warmup-steps: 535\n"
     ]
    },
    {
     "data": {
      "application/vnd.jupyter.widget-view+json": {
       "model_id": "4843f47a881c4c1d823674daac65e020",
       "version_major": 2,
       "version_minor": 0
      },
      "text/plain": [
       "Epoch:   0%|          | 0/50 [00:00<?, ?it/s]"
      ]
     },
     "metadata": {},
     "output_type": "display_data"
    },
    {
     "data": {
      "application/vnd.jupyter.widget-view+json": {
       "model_id": "7410d0b629f443a1ae3e2cb0f48c73a9",
       "version_major": 2,
       "version_minor": 0
      },
      "text/plain": [
       "Iteration:   0%|          | 0/107 [00:00<?, ?it/s]"
      ]
     },
     "metadata": {},
     "output_type": "display_data"
    },
    {
     "name": "stdout",
     "output_type": "stream",
     "text": [
      "2024-01-01 22:25:38 - EmbeddingSimilarityEvaluator: Evaluating the model on wordsim_dev dataset after epoch 0:\n",
      "2024-01-01 22:25:38 - Cosine-Similarity :\tPearson: 0.1482\tSpearman: 0.1315\n",
      "2024-01-01 22:25:38 - Manhattan-Distance:\tPearson: 0.1325\tSpearman: 0.1252\n",
      "2024-01-01 22:25:38 - Euclidean-Distance:\tPearson: 0.1315\tSpearman: 0.1239\n",
      "2024-01-01 22:25:38 - Dot-Product-Similarity:\tPearson: 0.1380\tSpearman: 0.1253\n",
      "2024-01-01 22:25:38 - Save model to output/word_sim_google-electra-base-discriminator/seed_0\n"
     ]
    },
    {
     "data": {
      "application/vnd.jupyter.widget-view+json": {
       "model_id": "4890d0597a4d4b52a59b08597496241c",
       "version_major": 2,
       "version_minor": 0
      },
      "text/plain": [
       "Iteration:   0%|          | 0/107 [00:00<?, ?it/s]"
      ]
     },
     "metadata": {},
     "output_type": "display_data"
    },
    {
     "name": "stdout",
     "output_type": "stream",
     "text": [
      "2024-01-01 22:25:47 - EmbeddingSimilarityEvaluator: Evaluating the model on wordsim_dev dataset after epoch 1:\n",
      "2024-01-01 22:25:48 - Cosine-Similarity :\tPearson: 0.1110\tSpearman: 0.1024\n",
      "2024-01-01 22:25:48 - Manhattan-Distance:\tPearson: 0.0957\tSpearman: 0.0887\n",
      "2024-01-01 22:25:48 - Euclidean-Distance:\tPearson: 0.0910\tSpearman: 0.0849\n",
      "2024-01-01 22:25:48 - Dot-Product-Similarity:\tPearson: 0.1113\tSpearman: 0.1047\n"
     ]
    },
    {
     "data": {
      "application/vnd.jupyter.widget-view+json": {
       "model_id": "a41bfe175e5c4f528e24c626116aaa1f",
       "version_major": 2,
       "version_minor": 0
      },
      "text/plain": [
       "Iteration:   0%|          | 0/107 [00:00<?, ?it/s]"
      ]
     },
     "metadata": {},
     "output_type": "display_data"
    },
    {
     "name": "stdout",
     "output_type": "stream",
     "text": [
      "2024-01-01 22:25:56 - EmbeddingSimilarityEvaluator: Evaluating the model on wordsim_dev dataset after epoch 2:\n",
      "2024-01-01 22:25:56 - Cosine-Similarity :\tPearson: 0.1587\tSpearman: 0.1529\n",
      "2024-01-01 22:25:56 - Manhattan-Distance:\tPearson: 0.1446\tSpearman: 0.1409\n",
      "2024-01-01 22:25:56 - Euclidean-Distance:\tPearson: 0.1422\tSpearman: 0.1418\n",
      "2024-01-01 22:25:56 - Dot-Product-Similarity:\tPearson: 0.1544\tSpearman: 0.1460\n",
      "2024-01-01 22:25:56 - Save model to output/word_sim_google-electra-base-discriminator/seed_0\n"
     ]
    },
    {
     "data": {
      "application/vnd.jupyter.widget-view+json": {
       "model_id": "12f5761251a541aea7b54558550c8358",
       "version_major": 2,
       "version_minor": 0
      },
      "text/plain": [
       "Iteration:   0%|          | 0/107 [00:00<?, ?it/s]"
      ]
     },
     "metadata": {},
     "output_type": "display_data"
    },
    {
     "name": "stdout",
     "output_type": "stream",
     "text": [
      "2024-01-01 22:26:05 - EmbeddingSimilarityEvaluator: Evaluating the model on wordsim_dev dataset after epoch 3:\n",
      "2024-01-01 22:26:05 - Cosine-Similarity :\tPearson: 0.0944\tSpearman: 0.0882\n",
      "2024-01-01 22:26:05 - Manhattan-Distance:\tPearson: 0.0826\tSpearman: 0.0761\n",
      "2024-01-01 22:26:05 - Euclidean-Distance:\tPearson: 0.0913\tSpearman: 0.0840\n",
      "2024-01-01 22:26:05 - Dot-Product-Similarity:\tPearson: 0.0911\tSpearman: 0.0875\n"
     ]
    },
    {
     "data": {
      "application/vnd.jupyter.widget-view+json": {
       "model_id": "4bafdef222b84ed683e4383a01ee4da0",
       "version_major": 2,
       "version_minor": 0
      },
      "text/plain": [
       "Iteration:   0%|          | 0/107 [00:00<?, ?it/s]"
      ]
     },
     "metadata": {},
     "output_type": "display_data"
    },
    {
     "name": "stdout",
     "output_type": "stream",
     "text": [
      "2024-01-01 22:26:13 - EmbeddingSimilarityEvaluator: Evaluating the model on wordsim_dev dataset after epoch 4:\n",
      "2024-01-01 22:26:14 - Cosine-Similarity :\tPearson: 0.1414\tSpearman: 0.1299\n",
      "2024-01-01 22:26:14 - Manhattan-Distance:\tPearson: 0.0992\tSpearman: 0.0851\n",
      "2024-01-01 22:26:14 - Euclidean-Distance:\tPearson: 0.0993\tSpearman: 0.0877\n",
      "2024-01-01 22:26:14 - Dot-Product-Similarity:\tPearson: 0.1749\tSpearman: 0.1685\n",
      "2024-01-01 22:26:14 - Save model to output/word_sim_google-electra-base-discriminator/seed_0\n"
     ]
    },
    {
     "data": {
      "application/vnd.jupyter.widget-view+json": {
       "model_id": "7c20f44e796641e0b579cb9b123f45d4",
       "version_major": 2,
       "version_minor": 0
      },
      "text/plain": [
       "Iteration:   0%|          | 0/107 [00:00<?, ?it/s]"
      ]
     },
     "metadata": {},
     "output_type": "display_data"
    },
    {
     "name": "stdout",
     "output_type": "stream",
     "text": [
      "2024-01-01 22:26:23 - EmbeddingSimilarityEvaluator: Evaluating the model on wordsim_dev dataset after epoch 5:\n",
      "2024-01-01 22:26:24 - Cosine-Similarity :\tPearson: 0.3171\tSpearman: 0.3069\n",
      "2024-01-01 22:26:24 - Manhattan-Distance:\tPearson: 0.3049\tSpearman: 0.3037\n",
      "2024-01-01 22:26:24 - Euclidean-Distance:\tPearson: 0.3048\tSpearman: 0.3043\n",
      "2024-01-01 22:26:24 - Dot-Product-Similarity:\tPearson: 0.2965\tSpearman: 0.2870\n",
      "2024-01-01 22:26:24 - Save model to output/word_sim_google-electra-base-discriminator/seed_0\n"
     ]
    },
    {
     "data": {
      "application/vnd.jupyter.widget-view+json": {
       "model_id": "623a71a8b6424763a5aac763e319d96b",
       "version_major": 2,
       "version_minor": 0
      },
      "text/plain": [
       "Iteration:   0%|          | 0/107 [00:00<?, ?it/s]"
      ]
     },
     "metadata": {},
     "output_type": "display_data"
    },
    {
     "name": "stdout",
     "output_type": "stream",
     "text": [
      "2024-01-01 22:26:33 - EmbeddingSimilarityEvaluator: Evaluating the model on wordsim_dev dataset after epoch 6:\n",
      "2024-01-01 22:26:33 - Cosine-Similarity :\tPearson: 0.4081\tSpearman: 0.3934\n",
      "2024-01-01 22:26:33 - Manhattan-Distance:\tPearson: 0.3730\tSpearman: 0.3657\n",
      "2024-01-01 22:26:33 - Euclidean-Distance:\tPearson: 0.3670\tSpearman: 0.3594\n",
      "2024-01-01 22:26:33 - Dot-Product-Similarity:\tPearson: 0.4175\tSpearman: 0.3983\n",
      "2024-01-01 22:26:33 - Save model to output/word_sim_google-electra-base-discriminator/seed_0\n"
     ]
    },
    {
     "data": {
      "application/vnd.jupyter.widget-view+json": {
       "model_id": "ba949678797f46febe85e4bf377e48b1",
       "version_major": 2,
       "version_minor": 0
      },
      "text/plain": [
       "Iteration:   0%|          | 0/107 [00:00<?, ?it/s]"
      ]
     },
     "metadata": {},
     "output_type": "display_data"
    },
    {
     "name": "stdout",
     "output_type": "stream",
     "text": [
      "2024-01-01 22:26:42 - EmbeddingSimilarityEvaluator: Evaluating the model on wordsim_dev dataset after epoch 7:\n",
      "2024-01-01 22:26:43 - Cosine-Similarity :\tPearson: 0.5313\tSpearman: 0.5162\n",
      "2024-01-01 22:26:43 - Manhattan-Distance:\tPearson: 0.5058\tSpearman: 0.4891\n",
      "2024-01-01 22:26:43 - Euclidean-Distance:\tPearson: 0.5009\tSpearman: 0.4858\n",
      "2024-01-01 22:26:43 - Dot-Product-Similarity:\tPearson: 0.5346\tSpearman: 0.5164\n",
      "2024-01-01 22:26:43 - Save model to output/word_sim_google-electra-base-discriminator/seed_0\n"
     ]
    },
    {
     "data": {
      "application/vnd.jupyter.widget-view+json": {
       "model_id": "e625670621174e89bb7d797829e01723",
       "version_major": 2,
       "version_minor": 0
      },
      "text/plain": [
       "Iteration:   0%|          | 0/107 [00:00<?, ?it/s]"
      ]
     },
     "metadata": {},
     "output_type": "display_data"
    },
    {
     "name": "stdout",
     "output_type": "stream",
     "text": [
      "2024-01-01 22:26:51 - EmbeddingSimilarityEvaluator: Evaluating the model on wordsim_dev dataset after epoch 8:\n",
      "2024-01-01 22:26:52 - Cosine-Similarity :\tPearson: 0.5916\tSpearman: 0.5828\n",
      "2024-01-01 22:26:52 - Manhattan-Distance:\tPearson: 0.5834\tSpearman: 0.5716\n",
      "2024-01-01 22:26:52 - Euclidean-Distance:\tPearson: 0.5823\tSpearman: 0.5700\n",
      "2024-01-01 22:26:52 - Dot-Product-Similarity:\tPearson: 0.5903\tSpearman: 0.5765\n",
      "2024-01-01 22:26:52 - Save model to output/word_sim_google-electra-base-discriminator/seed_0\n"
     ]
    },
    {
     "data": {
      "application/vnd.jupyter.widget-view+json": {
       "model_id": "54568534f0794eee9e9078cdd0696af3",
       "version_major": 2,
       "version_minor": 0
      },
      "text/plain": [
       "Iteration:   0%|          | 0/107 [00:00<?, ?it/s]"
      ]
     },
     "metadata": {},
     "output_type": "display_data"
    },
    {
     "name": "stdout",
     "output_type": "stream",
     "text": [
      "2024-01-01 22:27:01 - EmbeddingSimilarityEvaluator: Evaluating the model on wordsim_dev dataset after epoch 9:\n",
      "2024-01-01 22:27:02 - Cosine-Similarity :\tPearson: 0.6339\tSpearman: 0.6242\n",
      "2024-01-01 22:27:02 - Manhattan-Distance:\tPearson: 0.6095\tSpearman: 0.5962\n",
      "2024-01-01 22:27:02 - Euclidean-Distance:\tPearson: 0.6080\tSpearman: 0.5950\n",
      "2024-01-01 22:27:02 - Dot-Product-Similarity:\tPearson: 0.6408\tSpearman: 0.6272\n",
      "2024-01-01 22:27:02 - Save model to output/word_sim_google-electra-base-discriminator/seed_0\n"
     ]
    },
    {
     "data": {
      "application/vnd.jupyter.widget-view+json": {
       "model_id": "9a9c17ae76a74db8a70ec95f301dface",
       "version_major": 2,
       "version_minor": 0
      },
      "text/plain": [
       "Iteration:   0%|          | 0/107 [00:00<?, ?it/s]"
      ]
     },
     "metadata": {},
     "output_type": "display_data"
    },
    {
     "name": "stdout",
     "output_type": "stream",
     "text": [
      "2024-01-01 22:27:10 - EmbeddingSimilarityEvaluator: Evaluating the model on wordsim_dev dataset after epoch 10:\n",
      "2024-01-01 22:27:11 - Cosine-Similarity :\tPearson: 0.6379\tSpearman: 0.6335\n",
      "2024-01-01 22:27:11 - Manhattan-Distance:\tPearson: 0.6322\tSpearman: 0.6194\n",
      "2024-01-01 22:27:11 - Euclidean-Distance:\tPearson: 0.6310\tSpearman: 0.6180\n",
      "2024-01-01 22:27:11 - Dot-Product-Similarity:\tPearson: 0.6377\tSpearman: 0.6252\n",
      "2024-01-01 22:27:11 - Save model to output/word_sim_google-electra-base-discriminator/seed_0\n"
     ]
    },
    {
     "data": {
      "application/vnd.jupyter.widget-view+json": {
       "model_id": "7a5cb68d884541479c43c9c9ca1bab53",
       "version_major": 2,
       "version_minor": 0
      },
      "text/plain": [
       "Iteration:   0%|          | 0/107 [00:00<?, ?it/s]"
      ]
     },
     "metadata": {},
     "output_type": "display_data"
    },
    {
     "name": "stdout",
     "output_type": "stream",
     "text": [
      "2024-01-01 22:27:20 - EmbeddingSimilarityEvaluator: Evaluating the model on wordsim_dev dataset after epoch 11:\n",
      "2024-01-01 22:27:21 - Cosine-Similarity :\tPearson: 0.6616\tSpearman: 0.6550\n",
      "2024-01-01 22:27:21 - Manhattan-Distance:\tPearson: 0.6542\tSpearman: 0.6397\n",
      "2024-01-01 22:27:21 - Euclidean-Distance:\tPearson: 0.6545\tSpearman: 0.6395\n",
      "2024-01-01 22:27:21 - Dot-Product-Similarity:\tPearson: 0.6651\tSpearman: 0.6525\n",
      "2024-01-01 22:27:21 - Save model to output/word_sim_google-electra-base-discriminator/seed_0\n"
     ]
    },
    {
     "data": {
      "application/vnd.jupyter.widget-view+json": {
       "model_id": "11ba622cdcd941c98668b558695a2225",
       "version_major": 2,
       "version_minor": 0
      },
      "text/plain": [
       "Iteration:   0%|          | 0/107 [00:00<?, ?it/s]"
      ]
     },
     "metadata": {},
     "output_type": "display_data"
    },
    {
     "name": "stdout",
     "output_type": "stream",
     "text": [
      "2024-01-01 22:27:30 - EmbeddingSimilarityEvaluator: Evaluating the model on wordsim_dev dataset after epoch 12:\n",
      "2024-01-01 22:27:30 - Cosine-Similarity :\tPearson: 0.6684\tSpearman: 0.6625\n",
      "2024-01-01 22:27:30 - Manhattan-Distance:\tPearson: 0.6432\tSpearman: 0.6330\n",
      "2024-01-01 22:27:30 - Euclidean-Distance:\tPearson: 0.6428\tSpearman: 0.6329\n",
      "2024-01-01 22:27:30 - Dot-Product-Similarity:\tPearson: 0.6765\tSpearman: 0.6659\n",
      "2024-01-01 22:27:30 - Save model to output/word_sim_google-electra-base-discriminator/seed_0\n"
     ]
    },
    {
     "data": {
      "application/vnd.jupyter.widget-view+json": {
       "model_id": "72fbd9e2b8e14953ba63c7e5a1125323",
       "version_major": 2,
       "version_minor": 0
      },
      "text/plain": [
       "Iteration:   0%|          | 0/107 [00:00<?, ?it/s]"
      ]
     },
     "metadata": {},
     "output_type": "display_data"
    },
    {
     "name": "stdout",
     "output_type": "stream",
     "text": [
      "2024-01-01 22:27:39 - EmbeddingSimilarityEvaluator: Evaluating the model on wordsim_dev dataset after epoch 13:\n",
      "2024-01-01 22:27:39 - Cosine-Similarity :\tPearson: 0.6811\tSpearman: 0.6736\n",
      "2024-01-01 22:27:39 - Manhattan-Distance:\tPearson: 0.6685\tSpearman: 0.6552\n",
      "2024-01-01 22:27:39 - Euclidean-Distance:\tPearson: 0.6690\tSpearman: 0.6568\n",
      "2024-01-01 22:27:39 - Dot-Product-Similarity:\tPearson: 0.6868\tSpearman: 0.6745\n",
      "2024-01-01 22:27:39 - Save model to output/word_sim_google-electra-base-discriminator/seed_0\n"
     ]
    },
    {
     "data": {
      "application/vnd.jupyter.widget-view+json": {
       "model_id": "aed854ff2df54fa99e366ad25d5d3cf9",
       "version_major": 2,
       "version_minor": 0
      },
      "text/plain": [
       "Iteration:   0%|          | 0/107 [00:00<?, ?it/s]"
      ]
     },
     "metadata": {},
     "output_type": "display_data"
    },
    {
     "name": "stdout",
     "output_type": "stream",
     "text": [
      "2024-01-01 22:27:48 - EmbeddingSimilarityEvaluator: Evaluating the model on wordsim_dev dataset after epoch 14:\n",
      "2024-01-01 22:27:49 - Cosine-Similarity :\tPearson: 0.6741\tSpearman: 0.6650\n",
      "2024-01-01 22:27:49 - Manhattan-Distance:\tPearson: 0.6491\tSpearman: 0.6348\n",
      "2024-01-01 22:27:49 - Euclidean-Distance:\tPearson: 0.6494\tSpearman: 0.6363\n",
      "2024-01-01 22:27:49 - Dot-Product-Similarity:\tPearson: 0.6850\tSpearman: 0.6721\n"
     ]
    },
    {
     "data": {
      "application/vnd.jupyter.widget-view+json": {
       "model_id": "ff577ef4fb3641f0beea8fe7fea7d913",
       "version_major": 2,
       "version_minor": 0
      },
      "text/plain": [
       "Iteration:   0%|          | 0/107 [00:00<?, ?it/s]"
      ]
     },
     "metadata": {},
     "output_type": "display_data"
    },
    {
     "name": "stdout",
     "output_type": "stream",
     "text": [
      "2024-01-01 22:27:57 - EmbeddingSimilarityEvaluator: Evaluating the model on wordsim_dev dataset after epoch 15:\n",
      "2024-01-01 22:27:58 - Cosine-Similarity :\tPearson: 0.6793\tSpearman: 0.6711\n",
      "2024-01-01 22:27:58 - Manhattan-Distance:\tPearson: 0.6697\tSpearman: 0.6574\n",
      "2024-01-01 22:27:58 - Euclidean-Distance:\tPearson: 0.6699\tSpearman: 0.6583\n",
      "2024-01-01 22:27:58 - Dot-Product-Similarity:\tPearson: 0.6831\tSpearman: 0.6702\n"
     ]
    },
    {
     "data": {
      "application/vnd.jupyter.widget-view+json": {
       "model_id": "36c6715ebfbf42c9b0e3c1633a389bce",
       "version_major": 2,
       "version_minor": 0
      },
      "text/plain": [
       "Iteration:   0%|          | 0/107 [00:00<?, ?it/s]"
      ]
     },
     "metadata": {},
     "output_type": "display_data"
    },
    {
     "name": "stdout",
     "output_type": "stream",
     "text": [
      "2024-01-01 22:28:06 - EmbeddingSimilarityEvaluator: Evaluating the model on wordsim_dev dataset after epoch 16:\n",
      "2024-01-01 22:28:07 - Cosine-Similarity :\tPearson: 0.6690\tSpearman: 0.6597\n",
      "2024-01-01 22:28:07 - Manhattan-Distance:\tPearson: 0.6467\tSpearman: 0.6336\n",
      "2024-01-01 22:28:07 - Euclidean-Distance:\tPearson: 0.6485\tSpearman: 0.6360\n",
      "2024-01-01 22:28:07 - Dot-Product-Similarity:\tPearson: 0.6807\tSpearman: 0.6657\n"
     ]
    },
    {
     "data": {
      "application/vnd.jupyter.widget-view+json": {
       "model_id": "4219e7299e5140fb8b5b7092fa412da7",
       "version_major": 2,
       "version_minor": 0
      },
      "text/plain": [
       "Iteration:   0%|          | 0/107 [00:00<?, ?it/s]"
      ]
     },
     "metadata": {},
     "output_type": "display_data"
    },
    {
     "name": "stdout",
     "output_type": "stream",
     "text": [
      "2024-01-01 22:28:15 - EmbeddingSimilarityEvaluator: Evaluating the model on wordsim_dev dataset after epoch 17:\n",
      "2024-01-01 22:28:16 - Cosine-Similarity :\tPearson: 0.6695\tSpearman: 0.6606\n",
      "2024-01-01 22:28:16 - Manhattan-Distance:\tPearson: 0.6531\tSpearman: 0.6407\n",
      "2024-01-01 22:28:16 - Euclidean-Distance:\tPearson: 0.6539\tSpearman: 0.6424\n",
      "2024-01-01 22:28:16 - Dot-Product-Similarity:\tPearson: 0.6730\tSpearman: 0.6619\n"
     ]
    },
    {
     "data": {
      "application/vnd.jupyter.widget-view+json": {
       "model_id": "5b54d54133254b0499bb90b2a6098085",
       "version_major": 2,
       "version_minor": 0
      },
      "text/plain": [
       "Iteration:   0%|          | 0/107 [00:00<?, ?it/s]"
      ]
     },
     "metadata": {},
     "output_type": "display_data"
    },
    {
     "name": "stdout",
     "output_type": "stream",
     "text": [
      "2024-01-01 22:28:24 - EmbeddingSimilarityEvaluator: Evaluating the model on wordsim_dev dataset after epoch 18:\n",
      "2024-01-01 22:28:24 - Cosine-Similarity :\tPearson: 0.6671\tSpearman: 0.6573\n",
      "2024-01-01 22:28:24 - Manhattan-Distance:\tPearson: 0.6465\tSpearman: 0.6339\n",
      "2024-01-01 22:28:24 - Euclidean-Distance:\tPearson: 0.6483\tSpearman: 0.6367\n",
      "2024-01-01 22:28:24 - Dot-Product-Similarity:\tPearson: 0.6751\tSpearman: 0.6617\n"
     ]
    },
    {
     "data": {
      "application/vnd.jupyter.widget-view+json": {
       "model_id": "154c36378393475f8cb0c99e334871c7",
       "version_major": 2,
       "version_minor": 0
      },
      "text/plain": [
       "Iteration:   0%|          | 0/107 [00:00<?, ?it/s]"
      ]
     },
     "metadata": {},
     "output_type": "display_data"
    },
    {
     "name": "stdout",
     "output_type": "stream",
     "text": [
      "2024-01-01 22:28:33 - EmbeddingSimilarityEvaluator: Evaluating the model on wordsim_dev dataset after epoch 19:\n",
      "2024-01-01 22:28:33 - Cosine-Similarity :\tPearson: 0.6695\tSpearman: 0.6596\n",
      "2024-01-01 22:28:33 - Manhattan-Distance:\tPearson: 0.6505\tSpearman: 0.6369\n",
      "2024-01-01 22:28:33 - Euclidean-Distance:\tPearson: 0.6513\tSpearman: 0.6391\n",
      "2024-01-01 22:28:33 - Dot-Product-Similarity:\tPearson: 0.6763\tSpearman: 0.6637\n"
     ]
    },
    {
     "data": {
      "application/vnd.jupyter.widget-view+json": {
       "model_id": "709459b3c2c64fbca16ac84c895f0ca6",
       "version_major": 2,
       "version_minor": 0
      },
      "text/plain": [
       "Iteration:   0%|          | 0/107 [00:00<?, ?it/s]"
      ]
     },
     "metadata": {},
     "output_type": "display_data"
    },
    {
     "name": "stdout",
     "output_type": "stream",
     "text": [
      "2024-01-01 22:28:41 - EmbeddingSimilarityEvaluator: Evaluating the model on wordsim_dev dataset after epoch 20:\n",
      "2024-01-01 22:28:42 - Cosine-Similarity :\tPearson: 0.6779\tSpearman: 0.6676\n",
      "2024-01-01 22:28:42 - Manhattan-Distance:\tPearson: 0.6470\tSpearman: 0.6337\n",
      "2024-01-01 22:28:42 - Euclidean-Distance:\tPearson: 0.6485\tSpearman: 0.6366\n",
      "2024-01-01 22:28:42 - Dot-Product-Similarity:\tPearson: 0.6890\tSpearman: 0.6758\n",
      "2024-01-01 22:28:42 - Save model to output/word_sim_google-electra-base-discriminator/seed_0\n"
     ]
    },
    {
     "data": {
      "application/vnd.jupyter.widget-view+json": {
       "model_id": "f0e3dcf9db9e417b81315ad149671248",
       "version_major": 2,
       "version_minor": 0
      },
      "text/plain": [
       "Iteration:   0%|          | 0/107 [00:00<?, ?it/s]"
      ]
     },
     "metadata": {},
     "output_type": "display_data"
    },
    {
     "name": "stdout",
     "output_type": "stream",
     "text": [
      "2024-01-01 22:28:51 - EmbeddingSimilarityEvaluator: Evaluating the model on wordsim_dev dataset after epoch 21:\n",
      "2024-01-01 22:28:51 - Cosine-Similarity :\tPearson: 0.6796\tSpearman: 0.6695\n",
      "2024-01-01 22:28:51 - Manhattan-Distance:\tPearson: 0.6594\tSpearman: 0.6479\n",
      "2024-01-01 22:28:51 - Euclidean-Distance:\tPearson: 0.6603\tSpearman: 0.6491\n",
      "2024-01-01 22:28:51 - Dot-Product-Similarity:\tPearson: 0.6865\tSpearman: 0.6730\n"
     ]
    },
    {
     "data": {
      "application/vnd.jupyter.widget-view+json": {
       "model_id": "26b74630a6704391abaae98902a96484",
       "version_major": 2,
       "version_minor": 0
      },
      "text/plain": [
       "Iteration:   0%|          | 0/107 [00:00<?, ?it/s]"
      ]
     },
     "metadata": {},
     "output_type": "display_data"
    },
    {
     "name": "stdout",
     "output_type": "stream",
     "text": [
      "2024-01-01 22:29:00 - EmbeddingSimilarityEvaluator: Evaluating the model on wordsim_dev dataset after epoch 22:\n",
      "2024-01-01 22:29:00 - Cosine-Similarity :\tPearson: 0.6753\tSpearman: 0.6647\n",
      "2024-01-01 22:29:00 - Manhattan-Distance:\tPearson: 0.6535\tSpearman: 0.6416\n",
      "2024-01-01 22:29:00 - Euclidean-Distance:\tPearson: 0.6540\tSpearman: 0.6427\n",
      "2024-01-01 22:29:00 - Dot-Product-Similarity:\tPearson: 0.6846\tSpearman: 0.6706\n"
     ]
    },
    {
     "data": {
      "application/vnd.jupyter.widget-view+json": {
       "model_id": "458878be2dc1475a960629680a9ca24d",
       "version_major": 2,
       "version_minor": 0
      },
      "text/plain": [
       "Iteration:   0%|          | 0/107 [00:00<?, ?it/s]"
      ]
     },
     "metadata": {},
     "output_type": "display_data"
    },
    {
     "name": "stdout",
     "output_type": "stream",
     "text": [
      "2024-01-01 22:29:08 - EmbeddingSimilarityEvaluator: Evaluating the model on wordsim_dev dataset after epoch 23:\n",
      "2024-01-01 22:29:09 - Cosine-Similarity :\tPearson: 0.6697\tSpearman: 0.6602\n",
      "2024-01-01 22:29:09 - Manhattan-Distance:\tPearson: 0.6437\tSpearman: 0.6328\n",
      "2024-01-01 22:29:09 - Euclidean-Distance:\tPearson: 0.6444\tSpearman: 0.6339\n",
      "2024-01-01 22:29:09 - Dot-Product-Similarity:\tPearson: 0.6799\tSpearman: 0.6663\n"
     ]
    },
    {
     "data": {
      "application/vnd.jupyter.widget-view+json": {
       "model_id": "b40a33c5343e40bb9f1da465c312a860",
       "version_major": 2,
       "version_minor": 0
      },
      "text/plain": [
       "Iteration:   0%|          | 0/107 [00:00<?, ?it/s]"
      ]
     },
     "metadata": {},
     "output_type": "display_data"
    },
    {
     "name": "stdout",
     "output_type": "stream",
     "text": [
      "2024-01-01 22:29:17 - EmbeddingSimilarityEvaluator: Evaluating the model on wordsim_dev dataset after epoch 24:\n",
      "2024-01-01 22:29:17 - Cosine-Similarity :\tPearson: 0.6698\tSpearman: 0.6596\n",
      "2024-01-01 22:29:17 - Manhattan-Distance:\tPearson: 0.6511\tSpearman: 0.6392\n",
      "2024-01-01 22:29:17 - Euclidean-Distance:\tPearson: 0.6519\tSpearman: 0.6403\n",
      "2024-01-01 22:29:17 - Dot-Product-Similarity:\tPearson: 0.6770\tSpearman: 0.6639\n"
     ]
    },
    {
     "data": {
      "application/vnd.jupyter.widget-view+json": {
       "model_id": "2b92f82f072e482e826360327f7aa21e",
       "version_major": 2,
       "version_minor": 0
      },
      "text/plain": [
       "Iteration:   0%|          | 0/107 [00:00<?, ?it/s]"
      ]
     },
     "metadata": {},
     "output_type": "display_data"
    },
    {
     "name": "stdout",
     "output_type": "stream",
     "text": [
      "2024-01-01 22:29:25 - EmbeddingSimilarityEvaluator: Evaluating the model on wordsim_dev dataset after epoch 25:\n",
      "2024-01-01 22:29:26 - Cosine-Similarity :\tPearson: 0.6705\tSpearman: 0.6598\n",
      "2024-01-01 22:29:26 - Manhattan-Distance:\tPearson: 0.6504\tSpearman: 0.6399\n",
      "2024-01-01 22:29:26 - Euclidean-Distance:\tPearson: 0.6505\tSpearman: 0.6407\n",
      "2024-01-01 22:29:26 - Dot-Product-Similarity:\tPearson: 0.6767\tSpearman: 0.6639\n"
     ]
    },
    {
     "data": {
      "application/vnd.jupyter.widget-view+json": {
       "model_id": "203ffaaed3454ff3aadd551a9f86b202",
       "version_major": 2,
       "version_minor": 0
      },
      "text/plain": [
       "Iteration:   0%|          | 0/107 [00:00<?, ?it/s]"
      ]
     },
     "metadata": {},
     "output_type": "display_data"
    },
    {
     "name": "stdout",
     "output_type": "stream",
     "text": [
      "2024-01-01 22:29:34 - EmbeddingSimilarityEvaluator: Evaluating the model on wordsim_dev dataset after epoch 26:\n",
      "2024-01-01 22:29:34 - Cosine-Similarity :\tPearson: 0.6685\tSpearman: 0.6594\n",
      "2024-01-01 22:29:34 - Manhattan-Distance:\tPearson: 0.6482\tSpearman: 0.6361\n",
      "2024-01-01 22:29:34 - Euclidean-Distance:\tPearson: 0.6479\tSpearman: 0.6365\n",
      "2024-01-01 22:29:34 - Dot-Product-Similarity:\tPearson: 0.6760\tSpearman: 0.6638\n"
     ]
    },
    {
     "data": {
      "application/vnd.jupyter.widget-view+json": {
       "model_id": "4bee396f07a1435f9de85b9df042173c",
       "version_major": 2,
       "version_minor": 0
      },
      "text/plain": [
       "Iteration:   0%|          | 0/107 [00:00<?, ?it/s]"
      ]
     },
     "metadata": {},
     "output_type": "display_data"
    },
    {
     "name": "stdout",
     "output_type": "stream",
     "text": [
      "2024-01-01 22:29:43 - EmbeddingSimilarityEvaluator: Evaluating the model on wordsim_dev dataset after epoch 27:\n",
      "2024-01-01 22:29:43 - Cosine-Similarity :\tPearson: 0.6677\tSpearman: 0.6572\n",
      "2024-01-01 22:29:43 - Manhattan-Distance:\tPearson: 0.6447\tSpearman: 0.6331\n",
      "2024-01-01 22:29:43 - Euclidean-Distance:\tPearson: 0.6444\tSpearman: 0.6332\n",
      "2024-01-01 22:29:43 - Dot-Product-Similarity:\tPearson: 0.6740\tSpearman: 0.6609\n"
     ]
    },
    {
     "data": {
      "application/vnd.jupyter.widget-view+json": {
       "model_id": "4fdd27905d0749a387842cc99ba919fb",
       "version_major": 2,
       "version_minor": 0
      },
      "text/plain": [
       "Iteration:   0%|          | 0/107 [00:00<?, ?it/s]"
      ]
     },
     "metadata": {},
     "output_type": "display_data"
    },
    {
     "name": "stdout",
     "output_type": "stream",
     "text": [
      "2024-01-01 22:29:51 - EmbeddingSimilarityEvaluator: Evaluating the model on wordsim_dev dataset after epoch 28:\n",
      "2024-01-01 22:29:52 - Cosine-Similarity :\tPearson: 0.6669\tSpearman: 0.6576\n",
      "2024-01-01 22:29:52 - Manhattan-Distance:\tPearson: 0.6424\tSpearman: 0.6318\n",
      "2024-01-01 22:29:52 - Euclidean-Distance:\tPearson: 0.6422\tSpearman: 0.6324\n",
      "2024-01-01 22:29:52 - Dot-Product-Similarity:\tPearson: 0.6745\tSpearman: 0.6635\n"
     ]
    },
    {
     "data": {
      "application/vnd.jupyter.widget-view+json": {
       "model_id": "c72d15e08f7b45239413ed472e8d4000",
       "version_major": 2,
       "version_minor": 0
      },
      "text/plain": [
       "Iteration:   0%|          | 0/107 [00:00<?, ?it/s]"
      ]
     },
     "metadata": {},
     "output_type": "display_data"
    },
    {
     "name": "stdout",
     "output_type": "stream",
     "text": [
      "2024-01-01 22:30:00 - EmbeddingSimilarityEvaluator: Evaluating the model on wordsim_dev dataset after epoch 29:\n",
      "2024-01-01 22:30:00 - Cosine-Similarity :\tPearson: 0.6652\tSpearman: 0.6563\n",
      "2024-01-01 22:30:00 - Manhattan-Distance:\tPearson: 0.6410\tSpearman: 0.6308\n",
      "2024-01-01 22:30:00 - Euclidean-Distance:\tPearson: 0.6411\tSpearman: 0.6319\n",
      "2024-01-01 22:30:00 - Dot-Product-Similarity:\tPearson: 0.6716\tSpearman: 0.6608\n"
     ]
    },
    {
     "data": {
      "application/vnd.jupyter.widget-view+json": {
       "model_id": "2aaa245dd834413c9cd113ba7fb12bdf",
       "version_major": 2,
       "version_minor": 0
      },
      "text/plain": [
       "Iteration:   0%|          | 0/107 [00:00<?, ?it/s]"
      ]
     },
     "metadata": {},
     "output_type": "display_data"
    },
    {
     "name": "stdout",
     "output_type": "stream",
     "text": [
      "2024-01-01 22:30:08 - EmbeddingSimilarityEvaluator: Evaluating the model on wordsim_dev dataset after epoch 30:\n",
      "2024-01-01 22:30:09 - Cosine-Similarity :\tPearson: 0.6647\tSpearman: 0.6544\n",
      "2024-01-01 22:30:09 - Manhattan-Distance:\tPearson: 0.6406\tSpearman: 0.6298\n",
      "2024-01-01 22:30:09 - Euclidean-Distance:\tPearson: 0.6406\tSpearman: 0.6299\n",
      "2024-01-01 22:30:09 - Dot-Product-Similarity:\tPearson: 0.6724\tSpearman: 0.6593\n"
     ]
    },
    {
     "data": {
      "application/vnd.jupyter.widget-view+json": {
       "model_id": "77312b319f8748ce85bd811bb650c1a7",
       "version_major": 2,
       "version_minor": 0
      },
      "text/plain": [
       "Iteration:   0%|          | 0/107 [00:00<?, ?it/s]"
      ]
     },
     "metadata": {},
     "output_type": "display_data"
    },
    {
     "name": "stdout",
     "output_type": "stream",
     "text": [
      "2024-01-01 22:30:17 - EmbeddingSimilarityEvaluator: Evaluating the model on wordsim_dev dataset after epoch 31:\n",
      "2024-01-01 22:30:18 - Cosine-Similarity :\tPearson: 0.6663\tSpearman: 0.6557\n",
      "2024-01-01 22:30:18 - Manhattan-Distance:\tPearson: 0.6436\tSpearman: 0.6332\n",
      "2024-01-01 22:30:18 - Euclidean-Distance:\tPearson: 0.6430\tSpearman: 0.6325\n",
      "2024-01-01 22:30:18 - Dot-Product-Similarity:\tPearson: 0.6725\tSpearman: 0.6609\n"
     ]
    },
    {
     "data": {
      "application/vnd.jupyter.widget-view+json": {
       "model_id": "b3ae305668924cb0bbcee804cc35e042",
       "version_major": 2,
       "version_minor": 0
      },
      "text/plain": [
       "Iteration:   0%|          | 0/107 [00:00<?, ?it/s]"
      ]
     },
     "metadata": {},
     "output_type": "display_data"
    },
    {
     "name": "stdout",
     "output_type": "stream",
     "text": [
      "2024-01-01 22:30:26 - EmbeddingSimilarityEvaluator: Evaluating the model on wordsim_dev dataset after epoch 32:\n",
      "2024-01-01 22:30:26 - Cosine-Similarity :\tPearson: 0.6628\tSpearman: 0.6513\n",
      "2024-01-01 22:30:26 - Manhattan-Distance:\tPearson: 0.6384\tSpearman: 0.6270\n",
      "2024-01-01 22:30:26 - Euclidean-Distance:\tPearson: 0.6383\tSpearman: 0.6274\n",
      "2024-01-01 22:30:26 - Dot-Product-Similarity:\tPearson: 0.6693\tSpearman: 0.6560\n"
     ]
    },
    {
     "data": {
      "application/vnd.jupyter.widget-view+json": {
       "model_id": "ca8b8520e22f486b8f2f470073c4efef",
       "version_major": 2,
       "version_minor": 0
      },
      "text/plain": [
       "Iteration:   0%|          | 0/107 [00:00<?, ?it/s]"
      ]
     },
     "metadata": {},
     "output_type": "display_data"
    },
    {
     "name": "stdout",
     "output_type": "stream",
     "text": [
      "2024-01-01 22:30:34 - EmbeddingSimilarityEvaluator: Evaluating the model on wordsim_dev dataset after epoch 33:\n",
      "2024-01-01 22:30:35 - Cosine-Similarity :\tPearson: 0.6607\tSpearman: 0.6500\n",
      "2024-01-01 22:30:35 - Manhattan-Distance:\tPearson: 0.6351\tSpearman: 0.6230\n",
      "2024-01-01 22:30:35 - Euclidean-Distance:\tPearson: 0.6346\tSpearman: 0.6231\n",
      "2024-01-01 22:30:35 - Dot-Product-Similarity:\tPearson: 0.6682\tSpearman: 0.6562\n"
     ]
    },
    {
     "data": {
      "application/vnd.jupyter.widget-view+json": {
       "model_id": "9de096df44394ac68ef8aea124574189",
       "version_major": 2,
       "version_minor": 0
      },
      "text/plain": [
       "Iteration:   0%|          | 0/107 [00:00<?, ?it/s]"
      ]
     },
     "metadata": {},
     "output_type": "display_data"
    },
    {
     "name": "stdout",
     "output_type": "stream",
     "text": [
      "2024-01-01 22:30:43 - EmbeddingSimilarityEvaluator: Evaluating the model on wordsim_dev dataset after epoch 34:\n",
      "2024-01-01 22:30:44 - Cosine-Similarity :\tPearson: 0.6596\tSpearman: 0.6488\n",
      "2024-01-01 22:30:44 - Manhattan-Distance:\tPearson: 0.6370\tSpearman: 0.6260\n",
      "2024-01-01 22:30:44 - Euclidean-Distance:\tPearson: 0.6369\tSpearman: 0.6260\n",
      "2024-01-01 22:30:44 - Dot-Product-Similarity:\tPearson: 0.6665\tSpearman: 0.6527\n"
     ]
    },
    {
     "data": {
      "application/vnd.jupyter.widget-view+json": {
       "model_id": "5c3cb37db4be4a49b583b5ae4a146eb7",
       "version_major": 2,
       "version_minor": 0
      },
      "text/plain": [
       "Iteration:   0%|          | 0/107 [00:00<?, ?it/s]"
      ]
     },
     "metadata": {},
     "output_type": "display_data"
    },
    {
     "name": "stdout",
     "output_type": "stream",
     "text": [
      "2024-01-01 22:30:52 - EmbeddingSimilarityEvaluator: Evaluating the model on wordsim_dev dataset after epoch 35:\n",
      "2024-01-01 22:30:52 - Cosine-Similarity :\tPearson: 0.6572\tSpearman: 0.6468\n",
      "2024-01-01 22:30:52 - Manhattan-Distance:\tPearson: 0.6332\tSpearman: 0.6212\n",
      "2024-01-01 22:30:52 - Euclidean-Distance:\tPearson: 0.6331\tSpearman: 0.6224\n",
      "2024-01-01 22:30:52 - Dot-Product-Similarity:\tPearson: 0.6655\tSpearman: 0.6524\n"
     ]
    },
    {
     "data": {
      "application/vnd.jupyter.widget-view+json": {
       "model_id": "4e36e8ae54154ae7b9ddb1f8adf528e4",
       "version_major": 2,
       "version_minor": 0
      },
      "text/plain": [
       "Iteration:   0%|          | 0/107 [00:00<?, ?it/s]"
      ]
     },
     "metadata": {},
     "output_type": "display_data"
    },
    {
     "name": "stdout",
     "output_type": "stream",
     "text": [
      "2024-01-01 22:31:00 - EmbeddingSimilarityEvaluator: Evaluating the model on wordsim_dev dataset after epoch 36:\n",
      "2024-01-01 22:31:01 - Cosine-Similarity :\tPearson: 0.6558\tSpearman: 0.6456\n",
      "2024-01-01 22:31:01 - Manhattan-Distance:\tPearson: 0.6316\tSpearman: 0.6204\n",
      "2024-01-01 22:31:01 - Euclidean-Distance:\tPearson: 0.6310\tSpearman: 0.6206\n",
      "2024-01-01 22:31:01 - Dot-Product-Similarity:\tPearson: 0.6643\tSpearman: 0.6517\n"
     ]
    },
    {
     "data": {
      "application/vnd.jupyter.widget-view+json": {
       "model_id": "c6b18e34151145c48ba85f70396d7e56",
       "version_major": 2,
       "version_minor": 0
      },
      "text/plain": [
       "Iteration:   0%|          | 0/107 [00:00<?, ?it/s]"
      ]
     },
     "metadata": {},
     "output_type": "display_data"
    },
    {
     "name": "stdout",
     "output_type": "stream",
     "text": [
      "2024-01-01 22:31:09 - EmbeddingSimilarityEvaluator: Evaluating the model on wordsim_dev dataset after epoch 37:\n",
      "2024-01-01 22:31:09 - Cosine-Similarity :\tPearson: 0.6551\tSpearman: 0.6440\n",
      "2024-01-01 22:31:09 - Manhattan-Distance:\tPearson: 0.6300\tSpearman: 0.6178\n",
      "2024-01-01 22:31:09 - Euclidean-Distance:\tPearson: 0.6297\tSpearman: 0.6177\n",
      "2024-01-01 22:31:09 - Dot-Product-Similarity:\tPearson: 0.6638\tSpearman: 0.6508\n"
     ]
    },
    {
     "data": {
      "application/vnd.jupyter.widget-view+json": {
       "model_id": "35250a6d31d6483a9bed19b2b2093aef",
       "version_major": 2,
       "version_minor": 0
      },
      "text/plain": [
       "Iteration:   0%|          | 0/107 [00:00<?, ?it/s]"
      ]
     },
     "metadata": {},
     "output_type": "display_data"
    },
    {
     "name": "stdout",
     "output_type": "stream",
     "text": [
      "2024-01-01 22:31:17 - EmbeddingSimilarityEvaluator: Evaluating the model on wordsim_dev dataset after epoch 38:\n",
      "2024-01-01 22:31:18 - Cosine-Similarity :\tPearson: 0.6583\tSpearman: 0.6475\n",
      "2024-01-01 22:31:18 - Manhattan-Distance:\tPearson: 0.6349\tSpearman: 0.6226\n",
      "2024-01-01 22:31:18 - Euclidean-Distance:\tPearson: 0.6344\tSpearman: 0.6226\n",
      "2024-01-01 22:31:18 - Dot-Product-Similarity:\tPearson: 0.6653\tSpearman: 0.6524\n"
     ]
    },
    {
     "data": {
      "application/vnd.jupyter.widget-view+json": {
       "model_id": "9cb4e0e79b2f49e8a3599792b47be9e6",
       "version_major": 2,
       "version_minor": 0
      },
      "text/plain": [
       "Iteration:   0%|          | 0/107 [00:00<?, ?it/s]"
      ]
     },
     "metadata": {},
     "output_type": "display_data"
    },
    {
     "name": "stdout",
     "output_type": "stream",
     "text": [
      "2024-01-01 22:31:26 - EmbeddingSimilarityEvaluator: Evaluating the model on wordsim_dev dataset after epoch 39:\n",
      "2024-01-01 22:31:27 - Cosine-Similarity :\tPearson: 0.6561\tSpearman: 0.6452\n",
      "2024-01-01 22:31:27 - Manhattan-Distance:\tPearson: 0.6292\tSpearman: 0.6173\n",
      "2024-01-01 22:31:27 - Euclidean-Distance:\tPearson: 0.6288\tSpearman: 0.6173\n",
      "2024-01-01 22:31:27 - Dot-Product-Similarity:\tPearson: 0.6643\tSpearman: 0.6513\n"
     ]
    },
    {
     "data": {
      "application/vnd.jupyter.widget-view+json": {
       "model_id": "561ba10f0ec442338bb5e8fb41c81d16",
       "version_major": 2,
       "version_minor": 0
      },
      "text/plain": [
       "Iteration:   0%|          | 0/107 [00:00<?, ?it/s]"
      ]
     },
     "metadata": {},
     "output_type": "display_data"
    },
    {
     "name": "stdout",
     "output_type": "stream",
     "text": [
      "2024-01-01 22:31:35 - EmbeddingSimilarityEvaluator: Evaluating the model on wordsim_dev dataset after epoch 40:\n",
      "2024-01-01 22:31:35 - Cosine-Similarity :\tPearson: 0.6583\tSpearman: 0.6480\n",
      "2024-01-01 22:31:35 - Manhattan-Distance:\tPearson: 0.6322\tSpearman: 0.6210\n",
      "2024-01-01 22:31:35 - Euclidean-Distance:\tPearson: 0.6319\tSpearman: 0.6204\n",
      "2024-01-01 22:31:35 - Dot-Product-Similarity:\tPearson: 0.6663\tSpearman: 0.6531\n"
     ]
    },
    {
     "data": {
      "application/vnd.jupyter.widget-view+json": {
       "model_id": "4dcd5d1d35594a46900b33ccfcf182fe",
       "version_major": 2,
       "version_minor": 0
      },
      "text/plain": [
       "Iteration:   0%|          | 0/107 [00:00<?, ?it/s]"
      ]
     },
     "metadata": {},
     "output_type": "display_data"
    },
    {
     "name": "stdout",
     "output_type": "stream",
     "text": [
      "2024-01-01 22:31:43 - EmbeddingSimilarityEvaluator: Evaluating the model on wordsim_dev dataset after epoch 41:\n",
      "2024-01-01 22:31:44 - Cosine-Similarity :\tPearson: 0.6557\tSpearman: 0.6455\n",
      "2024-01-01 22:31:44 - Manhattan-Distance:\tPearson: 0.6258\tSpearman: 0.6135\n",
      "2024-01-01 22:31:44 - Euclidean-Distance:\tPearson: 0.6259\tSpearman: 0.6143\n",
      "2024-01-01 22:31:44 - Dot-Product-Similarity:\tPearson: 0.6656\tSpearman: 0.6525\n"
     ]
    },
    {
     "data": {
      "application/vnd.jupyter.widget-view+json": {
       "model_id": "e4c086001f2a4bc8819f5510d3c9d8e1",
       "version_major": 2,
       "version_minor": 0
      },
      "text/plain": [
       "Iteration:   0%|          | 0/107 [00:00<?, ?it/s]"
      ]
     },
     "metadata": {},
     "output_type": "display_data"
    },
    {
     "name": "stdout",
     "output_type": "stream",
     "text": [
      "2024-01-01 22:31:52 - EmbeddingSimilarityEvaluator: Evaluating the model on wordsim_dev dataset after epoch 42:\n",
      "2024-01-01 22:31:53 - Cosine-Similarity :\tPearson: 0.6585\tSpearman: 0.6483\n",
      "2024-01-01 22:31:53 - Manhattan-Distance:\tPearson: 0.6314\tSpearman: 0.6192\n",
      "2024-01-01 22:31:53 - Euclidean-Distance:\tPearson: 0.6314\tSpearman: 0.6196\n",
      "2024-01-01 22:31:53 - Dot-Product-Similarity:\tPearson: 0.6667\tSpearman: 0.6544\n"
     ]
    },
    {
     "data": {
      "application/vnd.jupyter.widget-view+json": {
       "model_id": "2d542cfcece04ce79b6a1ee818a53227",
       "version_major": 2,
       "version_minor": 0
      },
      "text/plain": [
       "Iteration:   0%|          | 0/107 [00:00<?, ?it/s]"
      ]
     },
     "metadata": {},
     "output_type": "display_data"
    },
    {
     "name": "stdout",
     "output_type": "stream",
     "text": [
      "2024-01-01 22:32:01 - EmbeddingSimilarityEvaluator: Evaluating the model on wordsim_dev dataset after epoch 43:\n",
      "2024-01-01 22:32:02 - Cosine-Similarity :\tPearson: 0.6576\tSpearman: 0.6468\n",
      "2024-01-01 22:32:02 - Manhattan-Distance:\tPearson: 0.6328\tSpearman: 0.6205\n",
      "2024-01-01 22:32:02 - Euclidean-Distance:\tPearson: 0.6328\tSpearman: 0.6207\n",
      "2024-01-01 22:32:02 - Dot-Product-Similarity:\tPearson: 0.6638\tSpearman: 0.6509\n"
     ]
    },
    {
     "data": {
      "application/vnd.jupyter.widget-view+json": {
       "model_id": "0973aca73a354b49b4263e70e4b0a5bf",
       "version_major": 2,
       "version_minor": 0
      },
      "text/plain": [
       "Iteration:   0%|          | 0/107 [00:00<?, ?it/s]"
      ]
     },
     "metadata": {},
     "output_type": "display_data"
    },
    {
     "name": "stdout",
     "output_type": "stream",
     "text": [
      "2024-01-01 22:32:10 - EmbeddingSimilarityEvaluator: Evaluating the model on wordsim_dev dataset after epoch 44:\n",
      "2024-01-01 22:32:10 - Cosine-Similarity :\tPearson: 0.6563\tSpearman: 0.6453\n",
      "2024-01-01 22:32:10 - Manhattan-Distance:\tPearson: 0.6312\tSpearman: 0.6188\n",
      "2024-01-01 22:32:10 - Euclidean-Distance:\tPearson: 0.6314\tSpearman: 0.6190\n",
      "2024-01-01 22:32:10 - Dot-Product-Similarity:\tPearson: 0.6628\tSpearman: 0.6502\n"
     ]
    },
    {
     "data": {
      "application/vnd.jupyter.widget-view+json": {
       "model_id": "d59512c3bb144b3ebe8189a1c8648461",
       "version_major": 2,
       "version_minor": 0
      },
      "text/plain": [
       "Iteration:   0%|          | 0/107 [00:00<?, ?it/s]"
      ]
     },
     "metadata": {},
     "output_type": "display_data"
    },
    {
     "name": "stdout",
     "output_type": "stream",
     "text": [
      "2024-01-01 22:32:18 - EmbeddingSimilarityEvaluator: Evaluating the model on wordsim_dev dataset after epoch 45:\n",
      "2024-01-01 22:32:19 - Cosine-Similarity :\tPearson: 0.6551\tSpearman: 0.6439\n",
      "2024-01-01 22:32:19 - Manhattan-Distance:\tPearson: 0.6286\tSpearman: 0.6158\n",
      "2024-01-01 22:32:19 - Euclidean-Distance:\tPearson: 0.6287\tSpearman: 0.6161\n",
      "2024-01-01 22:32:19 - Dot-Product-Similarity:\tPearson: 0.6633\tSpearman: 0.6502\n"
     ]
    },
    {
     "data": {
      "application/vnd.jupyter.widget-view+json": {
       "model_id": "995048f97bf344c9a63a339bd6deb65c",
       "version_major": 2,
       "version_minor": 0
      },
      "text/plain": [
       "Iteration:   0%|          | 0/107 [00:00<?, ?it/s]"
      ]
     },
     "metadata": {},
     "output_type": "display_data"
    },
    {
     "name": "stdout",
     "output_type": "stream",
     "text": [
      "2024-01-01 22:32:27 - EmbeddingSimilarityEvaluator: Evaluating the model on wordsim_dev dataset after epoch 46:\n",
      "2024-01-01 22:32:28 - Cosine-Similarity :\tPearson: 0.6564\tSpearman: 0.6450\n",
      "2024-01-01 22:32:28 - Manhattan-Distance:\tPearson: 0.6298\tSpearman: 0.6173\n",
      "2024-01-01 22:32:28 - Euclidean-Distance:\tPearson: 0.6300\tSpearman: 0.6185\n",
      "2024-01-01 22:32:28 - Dot-Product-Similarity:\tPearson: 0.6639\tSpearman: 0.6512\n"
     ]
    },
    {
     "data": {
      "application/vnd.jupyter.widget-view+json": {
       "model_id": "fac8434e444a4437839b5a1249f301ba",
       "version_major": 2,
       "version_minor": 0
      },
      "text/plain": [
       "Iteration:   0%|          | 0/107 [00:00<?, ?it/s]"
      ]
     },
     "metadata": {},
     "output_type": "display_data"
    },
    {
     "name": "stdout",
     "output_type": "stream",
     "text": [
      "2024-01-01 22:32:36 - EmbeddingSimilarityEvaluator: Evaluating the model on wordsim_dev dataset after epoch 47:\n",
      "2024-01-01 22:32:36 - Cosine-Similarity :\tPearson: 0.6562\tSpearman: 0.6447\n",
      "2024-01-01 22:32:36 - Manhattan-Distance:\tPearson: 0.6295\tSpearman: 0.6168\n",
      "2024-01-01 22:32:36 - Euclidean-Distance:\tPearson: 0.6296\tSpearman: 0.6171\n",
      "2024-01-01 22:32:36 - Dot-Product-Similarity:\tPearson: 0.6642\tSpearman: 0.6515\n"
     ]
    },
    {
     "data": {
      "application/vnd.jupyter.widget-view+json": {
       "model_id": "af216f90bd8e47e6badbb6efc2cfb9b3",
       "version_major": 2,
       "version_minor": 0
      },
      "text/plain": [
       "Iteration:   0%|          | 0/107 [00:00<?, ?it/s]"
      ]
     },
     "metadata": {},
     "output_type": "display_data"
    },
    {
     "name": "stdout",
     "output_type": "stream",
     "text": [
      "2024-01-01 22:32:45 - EmbeddingSimilarityEvaluator: Evaluating the model on wordsim_dev dataset after epoch 48:\n",
      "2024-01-01 22:32:45 - Cosine-Similarity :\tPearson: 0.6557\tSpearman: 0.6445\n",
      "2024-01-01 22:32:45 - Manhattan-Distance:\tPearson: 0.6285\tSpearman: 0.6160\n",
      "2024-01-01 22:32:45 - Euclidean-Distance:\tPearson: 0.6286\tSpearman: 0.6163\n",
      "2024-01-01 22:32:45 - Dot-Product-Similarity:\tPearson: 0.6640\tSpearman: 0.6510\n"
     ]
    },
    {
     "data": {
      "application/vnd.jupyter.widget-view+json": {
       "model_id": "2ba6af3122c74c7c844d3fbaca2773a9",
       "version_major": 2,
       "version_minor": 0
      },
      "text/plain": [
       "Iteration:   0%|          | 0/107 [00:00<?, ?it/s]"
      ]
     },
     "metadata": {},
     "output_type": "display_data"
    },
    {
     "name": "stdout",
     "output_type": "stream",
     "text": [
      "2024-01-01 22:32:53 - EmbeddingSimilarityEvaluator: Evaluating the model on wordsim_dev dataset after epoch 49:\n",
      "2024-01-01 22:32:54 - Cosine-Similarity :\tPearson: 0.6560\tSpearman: 0.6445\n",
      "2024-01-01 22:32:54 - Manhattan-Distance:\tPearson: 0.6286\tSpearman: 0.6158\n",
      "2024-01-01 22:32:54 - Euclidean-Distance:\tPearson: 0.6287\tSpearman: 0.6164\n",
      "2024-01-01 22:32:54 - Dot-Product-Similarity:\tPearson: 0.6643\tSpearman: 0.6512\n",
      "2024-01-01 22:32:54 - Load pretrained SentenceTransformer: output/word_sim_google-electra-base-discriminator/seed_0\n",
      "2024-01-01 22:32:54 - Use pytorch device_name: cuda\n",
      "2024-01-01 22:32:54 - EmbeddingSimilarityEvaluator: Evaluating the model on wordsim_test dataset:\n",
      "2024-01-01 22:32:55 - Cosine-Similarity :\tPearson: 0.6791\tSpearman: 0.6688\n",
      "2024-01-01 22:32:55 - Manhattan-Distance:\tPearson: 0.6669\tSpearman: 0.6570\n",
      "2024-01-01 22:32:55 - Euclidean-Distance:\tPearson: 0.6684\tSpearman: 0.6576\n",
      "2024-01-01 22:32:55 - Dot-Product-Similarity:\tPearson: 0.6693\tSpearman: 0.6615\n"
     ]
    }
   ],
   "source": [
    "from sklearn.model_selection import train_test_split\n",
    "\n",
    "data = pd.read_csv(\"../datasets/explicitsim353.csv\").values\n",
    "data2 = pd.read_csv(\"../datasets/SimLex-999.txt\", delimiter=\"\\t\")[[\"word1\",\"word2\",\"SimLex999\"]].values\n",
    "data3 = pd.read_csv(\"../datasets/SimVerb-3500.txt\", delimiter=\"\\t\", header=None, usecols=[0,1,3]).values\n",
    "data = np.concatenate((data, data2, data3), axis=0)\n",
    "\n",
    "train, dev = train_test_split(data, test_size=0.3)\n",
    "dev, test = train_test_split(dev, test_size=0.5)\n",
    "\n",
    "train_samples = [InputExample(texts=[x[0],x[1]], label=x[2]/10) for x in train.tolist()]\n",
    "dev_samples = [InputExample(texts=[x[0],x[1]], label=x[2]/10) for x in dev.tolist()]\n",
    "test_samples = [InputExample(texts=[x[0],x[1]], label=x[2]/10) for x in test.tolist()]\n",
    "\n",
    "\n",
    "#### Just some code to print debug information to stdout\n",
    "logging.basicConfig(\n",
    "    format='%(asctime)s - %(message)s',\n",
    "    datefmt='%Y-%m-%d %H:%M:%S',\n",
    "    level=logging.INFO,\n",
    "    handlers=[LoggingHandler()]\n",
    ")\n",
    "\n",
    "\n",
    "model_save_path = '../output/word_sim_'+model_name.replace(\"/\", \"-\")\n",
    "for seed in range(1):\n",
    "    logging.info(\"##### Seed {} #####\".format(seed))\n",
    "    random.seed(seed)\n",
    "    np.random.seed(seed)\n",
    "    torch.manual_seed(seed)\n",
    "\n",
    "    word_embedding_model = models.Transformer(model_name)\n",
    "    pooling_model = models.Pooling(\n",
    "        word_embedding_model.get_word_embedding_dimension(),\n",
    "        pooling_mode_mean_tokens=True,\n",
    "        pooling_mode_cls_token=False,\n",
    "        pooling_mode_max_tokens=False\n",
    "    )\n",
    "\n",
    "    model = SentenceTransformer(modules=[word_embedding_model, pooling_model])\n",
    "\n",
    "    curr_model_save_path = model_save_path + '/seed_'+str(seed)\n",
    "\n",
    "    train_dataloader = DataLoader(train_samples, shuffle=True, batch_size=32)\n",
    "    train_loss = losses.CosineSimilarityLoss(model=model)\n",
    "\n",
    "    evaluator = EmbeddingSimilarityEvaluator.from_input_examples(dev_samples, name='wordsim_dev')\n",
    "\n",
    "    warmup_steps = math.ceil(len(train_dataloader) * num_epochs  * 0.1) #10% of train data for warm-up\n",
    "    logging.info(\"Warmup-steps: {}\".format(warmup_steps))\n",
    "\n",
    "    # Train the model\n",
    "    model.fit(\n",
    "        train_objectives=[(train_dataloader, train_loss)],\n",
    "        evaluator=evaluator,\n",
    "        epochs=num_epochs,\n",
    "        #evaluation_steps=1000,\n",
    "        warmup_steps=warmup_steps,\n",
    "        output_path=curr_model_save_path\n",
    "    )\n",
    "\n",
    "    model = SentenceTransformer(curr_model_save_path)\n",
    "    test_evaluator = EmbeddingSimilarityEvaluator.from_input_examples(test_samples, name='wordsim_test')\n",
    "    test_evaluator(model, output_path=curr_model_save_path)"
   ]
  },
  {
   "cell_type": "code",
   "execution_count": 76,
   "id": "877fbf8b",
   "metadata": {},
   "outputs": [
    {
     "name": "stdout",
     "output_type": "stream",
     "text": [
      "2024-01-01 23:21:54 - ##### Seed 0 #####\n",
      "2024-01-01 23:21:54 - Use pytorch device_name: cuda\n",
      "2024-01-01 23:21:54 - Warmup-steps: 535\n"
     ]
    },
    {
     "data": {
      "application/vnd.jupyter.widget-view+json": {
       "model_id": "8d23fd14e6ce45a1bc91212776e30059",
       "version_major": 2,
       "version_minor": 0
      },
      "text/plain": [
       "Epoch:   0%|          | 0/50 [00:00<?, ?it/s]"
      ]
     },
     "metadata": {},
     "output_type": "display_data"
    },
    {
     "data": {
      "application/vnd.jupyter.widget-view+json": {
       "model_id": "f827122a87bd43748996b4a08269289e",
       "version_major": 2,
       "version_minor": 0
      },
      "text/plain": [
       "Iteration:   0%|          | 0/107 [00:00<?, ?it/s]"
      ]
     },
     "metadata": {},
     "output_type": "display_data"
    },
    {
     "name": "stdout",
     "output_type": "stream",
     "text": [
      "2024-01-01 23:22:03 - EmbeddingSimilarityEvaluator: Evaluating the model on wordsim_dev dataset after epoch 0:\n",
      "2024-01-01 23:22:04 - Cosine-Similarity :\tPearson: 0.3476\tSpearman: 0.3248\n",
      "2024-01-01 23:22:04 - Manhattan-Distance:\tPearson: 0.3505\tSpearman: 0.3273\n",
      "2024-01-01 23:22:04 - Euclidean-Distance:\tPearson: 0.3413\tSpearman: 0.3199\n",
      "2024-01-01 23:22:04 - Dot-Product-Similarity:\tPearson: 0.2905\tSpearman: 0.2656\n",
      "2024-01-01 23:22:04 - Save model to ../output/word_sim_bert-base-cased/seed_0\n"
     ]
    },
    {
     "data": {
      "application/vnd.jupyter.widget-view+json": {
       "model_id": "03fe6caeb1e543f1b8ac371adf2e3dfe",
       "version_major": 2,
       "version_minor": 0
      },
      "text/plain": [
       "Iteration:   0%|          | 0/107 [00:00<?, ?it/s]"
      ]
     },
     "metadata": {},
     "output_type": "display_data"
    },
    {
     "name": "stdout",
     "output_type": "stream",
     "text": [
      "2024-01-01 23:22:13 - EmbeddingSimilarityEvaluator: Evaluating the model on wordsim_dev dataset after epoch 1:\n",
      "2024-01-01 23:22:14 - Cosine-Similarity :\tPearson: 0.5274\tSpearman: 0.4998\n",
      "2024-01-01 23:22:14 - Manhattan-Distance:\tPearson: 0.5133\tSpearman: 0.4849\n",
      "2024-01-01 23:22:14 - Euclidean-Distance:\tPearson: 0.5147\tSpearman: 0.4849\n",
      "2024-01-01 23:22:14 - Dot-Product-Similarity:\tPearson: 0.4588\tSpearman: 0.4408\n",
      "2024-01-01 23:22:14 - Save model to ../output/word_sim_bert-base-cased/seed_0\n"
     ]
    },
    {
     "data": {
      "application/vnd.jupyter.widget-view+json": {
       "model_id": "0b78177e9bb94c97bc82fabcadba5158",
       "version_major": 2,
       "version_minor": 0
      },
      "text/plain": [
       "Iteration:   0%|          | 0/107 [00:00<?, ?it/s]"
      ]
     },
     "metadata": {},
     "output_type": "display_data"
    },
    {
     "name": "stdout",
     "output_type": "stream",
     "text": [
      "2024-01-01 23:22:23 - EmbeddingSimilarityEvaluator: Evaluating the model on wordsim_dev dataset after epoch 2:\n",
      "2024-01-01 23:22:24 - Cosine-Similarity :\tPearson: 0.6526\tSpearman: 0.6419\n",
      "2024-01-01 23:22:24 - Manhattan-Distance:\tPearson: 0.6438\tSpearman: 0.6289\n",
      "2024-01-01 23:22:24 - Euclidean-Distance:\tPearson: 0.6469\tSpearman: 0.6328\n",
      "2024-01-01 23:22:24 - Dot-Product-Similarity:\tPearson: 0.5949\tSpearman: 0.5847\n",
      "2024-01-01 23:22:24 - Save model to ../output/word_sim_bert-base-cased/seed_0\n"
     ]
    },
    {
     "data": {
      "application/vnd.jupyter.widget-view+json": {
       "model_id": "d973055a4df64232b87766ab135d9671",
       "version_major": 2,
       "version_minor": 0
      },
      "text/plain": [
       "Iteration:   0%|          | 0/107 [00:00<?, ?it/s]"
      ]
     },
     "metadata": {},
     "output_type": "display_data"
    },
    {
     "name": "stdout",
     "output_type": "stream",
     "text": [
      "2024-01-01 23:22:33 - EmbeddingSimilarityEvaluator: Evaluating the model on wordsim_dev dataset after epoch 3:\n",
      "2024-01-01 23:22:34 - Cosine-Similarity :\tPearson: 0.7034\tSpearman: 0.6912\n",
      "2024-01-01 23:22:34 - Manhattan-Distance:\tPearson: 0.6981\tSpearman: 0.6829\n",
      "2024-01-01 23:22:34 - Euclidean-Distance:\tPearson: 0.7001\tSpearman: 0.6850\n",
      "2024-01-01 23:22:34 - Dot-Product-Similarity:\tPearson: 0.6695\tSpearman: 0.6582\n",
      "2024-01-01 23:22:34 - Save model to ../output/word_sim_bert-base-cased/seed_0\n"
     ]
    },
    {
     "data": {
      "application/vnd.jupyter.widget-view+json": {
       "model_id": "2bd95da3ae664c3cbab6ee86a2d567fc",
       "version_major": 2,
       "version_minor": 0
      },
      "text/plain": [
       "Iteration:   0%|          | 0/107 [00:00<?, ?it/s]"
      ]
     },
     "metadata": {},
     "output_type": "display_data"
    },
    {
     "name": "stdout",
     "output_type": "stream",
     "text": [
      "2024-01-01 23:22:43 - EmbeddingSimilarityEvaluator: Evaluating the model on wordsim_dev dataset after epoch 4:\n",
      "2024-01-01 23:22:44 - Cosine-Similarity :\tPearson: 0.7351\tSpearman: 0.7241\n",
      "2024-01-01 23:22:44 - Manhattan-Distance:\tPearson: 0.7407\tSpearman: 0.7227\n",
      "2024-01-01 23:22:44 - Euclidean-Distance:\tPearson: 0.7420\tSpearman: 0.7246\n",
      "2024-01-01 23:22:44 - Dot-Product-Similarity:\tPearson: 0.7024\tSpearman: 0.6910\n",
      "2024-01-01 23:22:44 - Save model to ../output/word_sim_bert-base-cased/seed_0\n"
     ]
    },
    {
     "data": {
      "application/vnd.jupyter.widget-view+json": {
       "model_id": "f9e83640505c44b9a16a0db0d56a8f47",
       "version_major": 2,
       "version_minor": 0
      },
      "text/plain": [
       "Iteration:   0%|          | 0/107 [00:00<?, ?it/s]"
      ]
     },
     "metadata": {},
     "output_type": "display_data"
    },
    {
     "name": "stdout",
     "output_type": "stream",
     "text": [
      "2024-01-01 23:22:53 - EmbeddingSimilarityEvaluator: Evaluating the model on wordsim_dev dataset after epoch 5:\n",
      "2024-01-01 23:22:53 - Cosine-Similarity :\tPearson: 0.7455\tSpearman: 0.7317\n",
      "2024-01-01 23:22:53 - Manhattan-Distance:\tPearson: 0.7431\tSpearman: 0.7238\n",
      "2024-01-01 23:22:53 - Euclidean-Distance:\tPearson: 0.7429\tSpearman: 0.7247\n",
      "2024-01-01 23:22:53 - Dot-Product-Similarity:\tPearson: 0.7258\tSpearman: 0.7153\n",
      "2024-01-01 23:22:53 - Save model to ../output/word_sim_bert-base-cased/seed_0\n"
     ]
    },
    {
     "data": {
      "application/vnd.jupyter.widget-view+json": {
       "model_id": "ed140b7c3b1f40048cc25d42d4e709be",
       "version_major": 2,
       "version_minor": 0
      },
      "text/plain": [
       "Iteration:   0%|          | 0/107 [00:00<?, ?it/s]"
      ]
     },
     "metadata": {},
     "output_type": "display_data"
    },
    {
     "name": "stdout",
     "output_type": "stream",
     "text": [
      "2024-01-01 23:23:02 - EmbeddingSimilarityEvaluator: Evaluating the model on wordsim_dev dataset after epoch 6:\n",
      "2024-01-01 23:23:03 - Cosine-Similarity :\tPearson: 0.7505\tSpearman: 0.7396\n",
      "2024-01-01 23:23:03 - Manhattan-Distance:\tPearson: 0.7497\tSpearman: 0.7303\n",
      "2024-01-01 23:23:03 - Euclidean-Distance:\tPearson: 0.7501\tSpearman: 0.7317\n",
      "2024-01-01 23:23:03 - Dot-Product-Similarity:\tPearson: 0.7293\tSpearman: 0.7205\n",
      "2024-01-01 23:23:03 - Save model to ../output/word_sim_bert-base-cased/seed_0\n"
     ]
    },
    {
     "data": {
      "application/vnd.jupyter.widget-view+json": {
       "model_id": "3122c224b7d14424adb2e113a9b3ef48",
       "version_major": 2,
       "version_minor": 0
      },
      "text/plain": [
       "Iteration:   0%|          | 0/107 [00:00<?, ?it/s]"
      ]
     },
     "metadata": {},
     "output_type": "display_data"
    },
    {
     "name": "stdout",
     "output_type": "stream",
     "text": [
      "2024-01-01 23:23:12 - EmbeddingSimilarityEvaluator: Evaluating the model on wordsim_dev dataset after epoch 7:\n",
      "2024-01-01 23:23:13 - Cosine-Similarity :\tPearson: 0.7515\tSpearman: 0.7411\n",
      "2024-01-01 23:23:13 - Manhattan-Distance:\tPearson: 0.7474\tSpearman: 0.7317\n",
      "2024-01-01 23:23:13 - Euclidean-Distance:\tPearson: 0.7472\tSpearman: 0.7319\n",
      "2024-01-01 23:23:13 - Dot-Product-Similarity:\tPearson: 0.7332\tSpearman: 0.7249\n",
      "2024-01-01 23:23:13 - Save model to ../output/word_sim_bert-base-cased/seed_0\n"
     ]
    },
    {
     "data": {
      "application/vnd.jupyter.widget-view+json": {
       "model_id": "a1a3cbf7c4f542e98c325e8b6a5ca396",
       "version_major": 2,
       "version_minor": 0
      },
      "text/plain": [
       "Iteration:   0%|          | 0/107 [00:00<?, ?it/s]"
      ]
     },
     "metadata": {},
     "output_type": "display_data"
    },
    {
     "name": "stdout",
     "output_type": "stream",
     "text": [
      "2024-01-01 23:23:22 - EmbeddingSimilarityEvaluator: Evaluating the model on wordsim_dev dataset after epoch 8:\n",
      "2024-01-01 23:23:22 - Cosine-Similarity :\tPearson: 0.7634\tSpearman: 0.7549\n",
      "2024-01-01 23:23:22 - Manhattan-Distance:\tPearson: 0.7586\tSpearman: 0.7441\n",
      "2024-01-01 23:23:22 - Euclidean-Distance:\tPearson: 0.7589\tSpearman: 0.7453\n",
      "2024-01-01 23:23:22 - Dot-Product-Similarity:\tPearson: 0.7493\tSpearman: 0.7419\n",
      "2024-01-01 23:23:22 - Save model to ../output/word_sim_bert-base-cased/seed_0\n"
     ]
    },
    {
     "data": {
      "application/vnd.jupyter.widget-view+json": {
       "model_id": "3f9f8d93be1f455e94fb30a365f48023",
       "version_major": 2,
       "version_minor": 0
      },
      "text/plain": [
       "Iteration:   0%|          | 0/107 [00:00<?, ?it/s]"
      ]
     },
     "metadata": {},
     "output_type": "display_data"
    },
    {
     "name": "stdout",
     "output_type": "stream",
     "text": [
      "2024-01-01 23:23:31 - EmbeddingSimilarityEvaluator: Evaluating the model on wordsim_dev dataset after epoch 9:\n",
      "2024-01-01 23:23:32 - Cosine-Similarity :\tPearson: 0.7575\tSpearman: 0.7470\n",
      "2024-01-01 23:23:32 - Manhattan-Distance:\tPearson: 0.7539\tSpearman: 0.7361\n",
      "2024-01-01 23:23:32 - Euclidean-Distance:\tPearson: 0.7532\tSpearman: 0.7364\n",
      "2024-01-01 23:23:32 - Dot-Product-Similarity:\tPearson: 0.7435\tSpearman: 0.7349\n"
     ]
    },
    {
     "data": {
      "application/vnd.jupyter.widget-view+json": {
       "model_id": "b69cb6eb0b8d461f9953f884f35ca19d",
       "version_major": 2,
       "version_minor": 0
      },
      "text/plain": [
       "Iteration:   0%|          | 0/107 [00:00<?, ?it/s]"
      ]
     },
     "metadata": {},
     "output_type": "display_data"
    },
    {
     "name": "stdout",
     "output_type": "stream",
     "text": [
      "2024-01-01 23:23:41 - EmbeddingSimilarityEvaluator: Evaluating the model on wordsim_dev dataset after epoch 10:\n",
      "2024-01-01 23:23:41 - Cosine-Similarity :\tPearson: 0.7550\tSpearman: 0.7442\n",
      "2024-01-01 23:23:41 - Manhattan-Distance:\tPearson: 0.7499\tSpearman: 0.7326\n",
      "2024-01-01 23:23:41 - Euclidean-Distance:\tPearson: 0.7494\tSpearman: 0.7319\n",
      "2024-01-01 23:23:41 - Dot-Product-Similarity:\tPearson: 0.7417\tSpearman: 0.7322\n"
     ]
    },
    {
     "data": {
      "application/vnd.jupyter.widget-view+json": {
       "model_id": "ea3ae9827a814f4eae0034d18b03c1fd",
       "version_major": 2,
       "version_minor": 0
      },
      "text/plain": [
       "Iteration:   0%|          | 0/107 [00:00<?, ?it/s]"
      ]
     },
     "metadata": {},
     "output_type": "display_data"
    },
    {
     "name": "stdout",
     "output_type": "stream",
     "text": [
      "2024-01-01 23:23:49 - EmbeddingSimilarityEvaluator: Evaluating the model on wordsim_dev dataset after epoch 11:\n",
      "2024-01-01 23:23:50 - Cosine-Similarity :\tPearson: 0.7547\tSpearman: 0.7436\n",
      "2024-01-01 23:23:50 - Manhattan-Distance:\tPearson: 0.7477\tSpearman: 0.7289\n",
      "2024-01-01 23:23:50 - Euclidean-Distance:\tPearson: 0.7469\tSpearman: 0.7288\n",
      "2024-01-01 23:23:50 - Dot-Product-Similarity:\tPearson: 0.7438\tSpearman: 0.7339\n"
     ]
    },
    {
     "data": {
      "application/vnd.jupyter.widget-view+json": {
       "model_id": "ccb5bec361824d89b510b12bfe1a6c7e",
       "version_major": 2,
       "version_minor": 0
      },
      "text/plain": [
       "Iteration:   0%|          | 0/107 [00:00<?, ?it/s]"
      ]
     },
     "metadata": {},
     "output_type": "display_data"
    },
    {
     "name": "stdout",
     "output_type": "stream",
     "text": [
      "2024-01-01 23:23:58 - EmbeddingSimilarityEvaluator: Evaluating the model on wordsim_dev dataset after epoch 12:\n",
      "2024-01-01 23:23:59 - Cosine-Similarity :\tPearson: 0.7522\tSpearman: 0.7420\n",
      "2024-01-01 23:23:59 - Manhattan-Distance:\tPearson: 0.7451\tSpearman: 0.7280\n",
      "2024-01-01 23:23:59 - Euclidean-Distance:\tPearson: 0.7447\tSpearman: 0.7274\n",
      "2024-01-01 23:23:59 - Dot-Product-Similarity:\tPearson: 0.7437\tSpearman: 0.7335\n"
     ]
    },
    {
     "data": {
      "application/vnd.jupyter.widget-view+json": {
       "model_id": "a8d9d99914b34b179cf99ae9f2033b23",
       "version_major": 2,
       "version_minor": 0
      },
      "text/plain": [
       "Iteration:   0%|          | 0/107 [00:00<?, ?it/s]"
      ]
     },
     "metadata": {},
     "output_type": "display_data"
    },
    {
     "name": "stdout",
     "output_type": "stream",
     "text": [
      "2024-01-01 23:24:07 - EmbeddingSimilarityEvaluator: Evaluating the model on wordsim_dev dataset after epoch 13:\n",
      "2024-01-01 23:24:08 - Cosine-Similarity :\tPearson: 0.7494\tSpearman: 0.7380\n",
      "2024-01-01 23:24:08 - Manhattan-Distance:\tPearson: 0.7431\tSpearman: 0.7246\n",
      "2024-01-01 23:24:08 - Euclidean-Distance:\tPearson: 0.7423\tSpearman: 0.7240\n",
      "2024-01-01 23:24:08 - Dot-Product-Similarity:\tPearson: 0.7388\tSpearman: 0.7279\n"
     ]
    },
    {
     "data": {
      "application/vnd.jupyter.widget-view+json": {
       "model_id": "e9ef798ba4ff4f0c97174ad4610486bd",
       "version_major": 2,
       "version_minor": 0
      },
      "text/plain": [
       "Iteration:   0%|          | 0/107 [00:00<?, ?it/s]"
      ]
     },
     "metadata": {},
     "output_type": "display_data"
    },
    {
     "name": "stdout",
     "output_type": "stream",
     "text": [
      "2024-01-01 23:24:16 - EmbeddingSimilarityEvaluator: Evaluating the model on wordsim_dev dataset after epoch 14:\n",
      "2024-01-01 23:24:17 - Cosine-Similarity :\tPearson: 0.7535\tSpearman: 0.7419\n",
      "2024-01-01 23:24:17 - Manhattan-Distance:\tPearson: 0.7454\tSpearman: 0.7276\n",
      "2024-01-01 23:24:17 - Euclidean-Distance:\tPearson: 0.7446\tSpearman: 0.7280\n",
      "2024-01-01 23:24:17 - Dot-Product-Similarity:\tPearson: 0.7436\tSpearman: 0.7335\n"
     ]
    },
    {
     "data": {
      "application/vnd.jupyter.widget-view+json": {
       "model_id": "b3da1dc9675040f2a00b0c08d9b9c9aa",
       "version_major": 2,
       "version_minor": 0
      },
      "text/plain": [
       "Iteration:   0%|          | 0/107 [00:00<?, ?it/s]"
      ]
     },
     "metadata": {},
     "output_type": "display_data"
    },
    {
     "name": "stdout",
     "output_type": "stream",
     "text": [
      "2024-01-01 23:24:25 - EmbeddingSimilarityEvaluator: Evaluating the model on wordsim_dev dataset after epoch 15:\n",
      "2024-01-01 23:24:26 - Cosine-Similarity :\tPearson: 0.7518\tSpearman: 0.7400\n",
      "2024-01-01 23:24:26 - Manhattan-Distance:\tPearson: 0.7425\tSpearman: 0.7247\n",
      "2024-01-01 23:24:26 - Euclidean-Distance:\tPearson: 0.7421\tSpearman: 0.7251\n",
      "2024-01-01 23:24:26 - Dot-Product-Similarity:\tPearson: 0.7428\tSpearman: 0.7321\n"
     ]
    },
    {
     "data": {
      "application/vnd.jupyter.widget-view+json": {
       "model_id": "11226bff90734fd694478d7015a53bc6",
       "version_major": 2,
       "version_minor": 0
      },
      "text/plain": [
       "Iteration:   0%|          | 0/107 [00:00<?, ?it/s]"
      ]
     },
     "metadata": {},
     "output_type": "display_data"
    },
    {
     "name": "stdout",
     "output_type": "stream",
     "text": [
      "2024-01-01 23:24:34 - EmbeddingSimilarityEvaluator: Evaluating the model on wordsim_dev dataset after epoch 16:\n",
      "2024-01-01 23:24:35 - Cosine-Similarity :\tPearson: 0.7524\tSpearman: 0.7412\n",
      "2024-01-01 23:24:35 - Manhattan-Distance:\tPearson: 0.7413\tSpearman: 0.7249\n",
      "2024-01-01 23:24:35 - Euclidean-Distance:\tPearson: 0.7410\tSpearman: 0.7250\n",
      "2024-01-01 23:24:35 - Dot-Product-Similarity:\tPearson: 0.7433\tSpearman: 0.7339\n"
     ]
    },
    {
     "data": {
      "application/vnd.jupyter.widget-view+json": {
       "model_id": "8616c9ee5d404f8794c8f03ba4540f49",
       "version_major": 2,
       "version_minor": 0
      },
      "text/plain": [
       "Iteration:   0%|          | 0/107 [00:00<?, ?it/s]"
      ]
     },
     "metadata": {},
     "output_type": "display_data"
    },
    {
     "name": "stdout",
     "output_type": "stream",
     "text": [
      "2024-01-01 23:24:43 - EmbeddingSimilarityEvaluator: Evaluating the model on wordsim_dev dataset after epoch 17:\n",
      "2024-01-01 23:24:44 - Cosine-Similarity :\tPearson: 0.7556\tSpearman: 0.7435\n",
      "2024-01-01 23:24:44 - Manhattan-Distance:\tPearson: 0.7448\tSpearman: 0.7283\n",
      "2024-01-01 23:24:44 - Euclidean-Distance:\tPearson: 0.7438\tSpearman: 0.7273\n",
      "2024-01-01 23:24:44 - Dot-Product-Similarity:\tPearson: 0.7460\tSpearman: 0.7363\n"
     ]
    },
    {
     "data": {
      "application/vnd.jupyter.widget-view+json": {
       "model_id": "c6afdace6a484530b64f07d4e0fb2089",
       "version_major": 2,
       "version_minor": 0
      },
      "text/plain": [
       "Iteration:   0%|          | 0/107 [00:00<?, ?it/s]"
      ]
     },
     "metadata": {},
     "output_type": "display_data"
    },
    {
     "name": "stdout",
     "output_type": "stream",
     "text": [
      "2024-01-01 23:24:52 - EmbeddingSimilarityEvaluator: Evaluating the model on wordsim_dev dataset after epoch 18:\n",
      "2024-01-01 23:24:53 - Cosine-Similarity :\tPearson: 0.7534\tSpearman: 0.7411\n",
      "2024-01-01 23:24:53 - Manhattan-Distance:\tPearson: 0.7427\tSpearman: 0.7253\n",
      "2024-01-01 23:24:53 - Euclidean-Distance:\tPearson: 0.7424\tSpearman: 0.7248\n",
      "2024-01-01 23:24:53 - Dot-Product-Similarity:\tPearson: 0.7433\tSpearman: 0.7330\n"
     ]
    },
    {
     "data": {
      "application/vnd.jupyter.widget-view+json": {
       "model_id": "532e9631ae7e491db692ffa5210b8e9f",
       "version_major": 2,
       "version_minor": 0
      },
      "text/plain": [
       "Iteration:   0%|          | 0/107 [00:00<?, ?it/s]"
      ]
     },
     "metadata": {},
     "output_type": "display_data"
    },
    {
     "name": "stdout",
     "output_type": "stream",
     "text": [
      "2024-01-01 23:25:01 - EmbeddingSimilarityEvaluator: Evaluating the model on wordsim_dev dataset after epoch 19:\n",
      "2024-01-01 23:25:02 - Cosine-Similarity :\tPearson: 0.7470\tSpearman: 0.7351\n",
      "2024-01-01 23:25:02 - Manhattan-Distance:\tPearson: 0.7347\tSpearman: 0.7165\n",
      "2024-01-01 23:25:02 - Euclidean-Distance:\tPearson: 0.7345\tSpearman: 0.7158\n",
      "2024-01-01 23:25:02 - Dot-Product-Similarity:\tPearson: 0.7404\tSpearman: 0.7295\n"
     ]
    },
    {
     "data": {
      "application/vnd.jupyter.widget-view+json": {
       "model_id": "961e5fe165a14637880c13562b5dc1b1",
       "version_major": 2,
       "version_minor": 0
      },
      "text/plain": [
       "Iteration:   0%|          | 0/107 [00:00<?, ?it/s]"
      ]
     },
     "metadata": {},
     "output_type": "display_data"
    },
    {
     "name": "stdout",
     "output_type": "stream",
     "text": [
      "2024-01-01 23:25:10 - EmbeddingSimilarityEvaluator: Evaluating the model on wordsim_dev dataset after epoch 20:\n",
      "2024-01-01 23:25:11 - Cosine-Similarity :\tPearson: 0.7530\tSpearman: 0.7407\n",
      "2024-01-01 23:25:11 - Manhattan-Distance:\tPearson: 0.7405\tSpearman: 0.7222\n",
      "2024-01-01 23:25:11 - Euclidean-Distance:\tPearson: 0.7397\tSpearman: 0.7219\n",
      "2024-01-01 23:25:11 - Dot-Product-Similarity:\tPearson: 0.7437\tSpearman: 0.7341\n"
     ]
    },
    {
     "data": {
      "application/vnd.jupyter.widget-view+json": {
       "model_id": "f8e85c9e0e0546cf9b599278cd210845",
       "version_major": 2,
       "version_minor": 0
      },
      "text/plain": [
       "Iteration:   0%|          | 0/107 [00:00<?, ?it/s]"
      ]
     },
     "metadata": {},
     "output_type": "display_data"
    },
    {
     "name": "stdout",
     "output_type": "stream",
     "text": [
      "2024-01-01 23:25:19 - EmbeddingSimilarityEvaluator: Evaluating the model on wordsim_dev dataset after epoch 21:\n",
      "2024-01-01 23:25:20 - Cosine-Similarity :\tPearson: 0.7535\tSpearman: 0.7429\n",
      "2024-01-01 23:25:20 - Manhattan-Distance:\tPearson: 0.7390\tSpearman: 0.7227\n",
      "2024-01-01 23:25:20 - Euclidean-Distance:\tPearson: 0.7386\tSpearman: 0.7218\n",
      "2024-01-01 23:25:20 - Dot-Product-Similarity:\tPearson: 0.7449\tSpearman: 0.7368\n"
     ]
    },
    {
     "data": {
      "application/vnd.jupyter.widget-view+json": {
       "model_id": "a6830204adac4c96b5bd0ee149df0b13",
       "version_major": 2,
       "version_minor": 0
      },
      "text/plain": [
       "Iteration:   0%|          | 0/107 [00:00<?, ?it/s]"
      ]
     },
     "metadata": {},
     "output_type": "display_data"
    },
    {
     "name": "stdout",
     "output_type": "stream",
     "text": [
      "2024-01-01 23:25:28 - EmbeddingSimilarityEvaluator: Evaluating the model on wordsim_dev dataset after epoch 22:\n",
      "2024-01-01 23:25:29 - Cosine-Similarity :\tPearson: 0.7491\tSpearman: 0.7373\n",
      "2024-01-01 23:25:29 - Manhattan-Distance:\tPearson: 0.7340\tSpearman: 0.7162\n",
      "2024-01-01 23:25:29 - Euclidean-Distance:\tPearson: 0.7337\tSpearman: 0.7162\n",
      "2024-01-01 23:25:29 - Dot-Product-Similarity:\tPearson: 0.7426\tSpearman: 0.7324\n"
     ]
    },
    {
     "data": {
      "application/vnd.jupyter.widget-view+json": {
       "model_id": "fc211d87e86e4f8fa1d88b14dd32b396",
       "version_major": 2,
       "version_minor": 0
      },
      "text/plain": [
       "Iteration:   0%|          | 0/107 [00:00<?, ?it/s]"
      ]
     },
     "metadata": {},
     "output_type": "display_data"
    },
    {
     "name": "stdout",
     "output_type": "stream",
     "text": [
      "2024-01-01 23:25:37 - EmbeddingSimilarityEvaluator: Evaluating the model on wordsim_dev dataset after epoch 23:\n",
      "2024-01-01 23:25:38 - Cosine-Similarity :\tPearson: 0.7494\tSpearman: 0.7371\n",
      "2024-01-01 23:25:38 - Manhattan-Distance:\tPearson: 0.7347\tSpearman: 0.7161\n",
      "2024-01-01 23:25:38 - Euclidean-Distance:\tPearson: 0.7337\tSpearman: 0.7149\n",
      "2024-01-01 23:25:38 - Dot-Product-Similarity:\tPearson: 0.7420\tSpearman: 0.7327\n"
     ]
    },
    {
     "data": {
      "application/vnd.jupyter.widget-view+json": {
       "model_id": "279bcb865f6542fdb9d16f25e22fea69",
       "version_major": 2,
       "version_minor": 0
      },
      "text/plain": [
       "Iteration:   0%|          | 0/107 [00:00<?, ?it/s]"
      ]
     },
     "metadata": {},
     "output_type": "display_data"
    },
    {
     "name": "stdout",
     "output_type": "stream",
     "text": [
      "2024-01-01 23:25:46 - EmbeddingSimilarityEvaluator: Evaluating the model on wordsim_dev dataset after epoch 24:\n",
      "2024-01-01 23:25:47 - Cosine-Similarity :\tPearson: 0.7476\tSpearman: 0.7368\n",
      "2024-01-01 23:25:47 - Manhattan-Distance:\tPearson: 0.7338\tSpearman: 0.7171\n",
      "2024-01-01 23:25:47 - Euclidean-Distance:\tPearson: 0.7333\tSpearman: 0.7160\n",
      "2024-01-01 23:25:47 - Dot-Product-Similarity:\tPearson: 0.7399\tSpearman: 0.7309\n"
     ]
    },
    {
     "data": {
      "application/vnd.jupyter.widget-view+json": {
       "model_id": "d86f573a6d414c0e9fdff073d956df57",
       "version_major": 2,
       "version_minor": 0
      },
      "text/plain": [
       "Iteration:   0%|          | 0/107 [00:00<?, ?it/s]"
      ]
     },
     "metadata": {},
     "output_type": "display_data"
    },
    {
     "name": "stdout",
     "output_type": "stream",
     "text": [
      "2024-01-01 23:25:55 - EmbeddingSimilarityEvaluator: Evaluating the model on wordsim_dev dataset after epoch 25:\n",
      "2024-01-01 23:25:56 - Cosine-Similarity :\tPearson: 0.7504\tSpearman: 0.7387\n",
      "2024-01-01 23:25:56 - Manhattan-Distance:\tPearson: 0.7347\tSpearman: 0.7171\n",
      "2024-01-01 23:25:56 - Euclidean-Distance:\tPearson: 0.7347\tSpearman: 0.7168\n",
      "2024-01-01 23:25:56 - Dot-Product-Similarity:\tPearson: 0.7439\tSpearman: 0.7349\n"
     ]
    },
    {
     "data": {
      "application/vnd.jupyter.widget-view+json": {
       "model_id": "c2bc46189f3a42169ebace3cdec86b11",
       "version_major": 2,
       "version_minor": 0
      },
      "text/plain": [
       "Iteration:   0%|          | 0/107 [00:00<?, ?it/s]"
      ]
     },
     "metadata": {},
     "output_type": "display_data"
    },
    {
     "name": "stdout",
     "output_type": "stream",
     "text": [
      "2024-01-01 23:26:04 - EmbeddingSimilarityEvaluator: Evaluating the model on wordsim_dev dataset after epoch 26:\n",
      "2024-01-01 23:26:05 - Cosine-Similarity :\tPearson: 0.7513\tSpearman: 0.7394\n",
      "2024-01-01 23:26:05 - Manhattan-Distance:\tPearson: 0.7358\tSpearman: 0.7181\n",
      "2024-01-01 23:26:05 - Euclidean-Distance:\tPearson: 0.7354\tSpearman: 0.7181\n",
      "2024-01-01 23:26:05 - Dot-Product-Similarity:\tPearson: 0.7444\tSpearman: 0.7349\n"
     ]
    },
    {
     "data": {
      "application/vnd.jupyter.widget-view+json": {
       "model_id": "bd50dd2ba8f24a4f9bedcb10250260e5",
       "version_major": 2,
       "version_minor": 0
      },
      "text/plain": [
       "Iteration:   0%|          | 0/107 [00:00<?, ?it/s]"
      ]
     },
     "metadata": {},
     "output_type": "display_data"
    },
    {
     "name": "stdout",
     "output_type": "stream",
     "text": [
      "2024-01-01 23:26:13 - EmbeddingSimilarityEvaluator: Evaluating the model on wordsim_dev dataset after epoch 27:\n",
      "2024-01-01 23:26:14 - Cosine-Similarity :\tPearson: 0.7475\tSpearman: 0.7346\n",
      "2024-01-01 23:26:14 - Manhattan-Distance:\tPearson: 0.7310\tSpearman: 0.7127\n",
      "2024-01-01 23:26:14 - Euclidean-Distance:\tPearson: 0.7303\tSpearman: 0.7118\n",
      "2024-01-01 23:26:14 - Dot-Product-Similarity:\tPearson: 0.7410\tSpearman: 0.7297\n"
     ]
    },
    {
     "data": {
      "application/vnd.jupyter.widget-view+json": {
       "model_id": "b3e87c05a27249c792626e6d5eef53d4",
       "version_major": 2,
       "version_minor": 0
      },
      "text/plain": [
       "Iteration:   0%|          | 0/107 [00:00<?, ?it/s]"
      ]
     },
     "metadata": {},
     "output_type": "display_data"
    },
    {
     "name": "stdout",
     "output_type": "stream",
     "text": [
      "2024-01-01 23:26:22 - EmbeddingSimilarityEvaluator: Evaluating the model on wordsim_dev dataset after epoch 28:\n",
      "2024-01-01 23:26:23 - Cosine-Similarity :\tPearson: 0.7489\tSpearman: 0.7369\n",
      "2024-01-01 23:26:23 - Manhattan-Distance:\tPearson: 0.7339\tSpearman: 0.7163\n",
      "2024-01-01 23:26:23 - Euclidean-Distance:\tPearson: 0.7329\tSpearman: 0.7152\n",
      "2024-01-01 23:26:23 - Dot-Product-Similarity:\tPearson: 0.7422\tSpearman: 0.7317\n"
     ]
    },
    {
     "data": {
      "application/vnd.jupyter.widget-view+json": {
       "model_id": "470ef21860004e4eb8297d4e22e4aa18",
       "version_major": 2,
       "version_minor": 0
      },
      "text/plain": [
       "Iteration:   0%|          | 0/107 [00:00<?, ?it/s]"
      ]
     },
     "metadata": {},
     "output_type": "display_data"
    },
    {
     "name": "stdout",
     "output_type": "stream",
     "text": [
      "2024-01-01 23:26:31 - EmbeddingSimilarityEvaluator: Evaluating the model on wordsim_dev dataset after epoch 29:\n",
      "2024-01-01 23:26:32 - Cosine-Similarity :\tPearson: 0.7519\tSpearman: 0.7397\n",
      "2024-01-01 23:26:32 - Manhattan-Distance:\tPearson: 0.7361\tSpearman: 0.7201\n",
      "2024-01-01 23:26:32 - Euclidean-Distance:\tPearson: 0.7353\tSpearman: 0.7186\n",
      "2024-01-01 23:26:32 - Dot-Product-Similarity:\tPearson: 0.7444\tSpearman: 0.7346\n"
     ]
    },
    {
     "data": {
      "application/vnd.jupyter.widget-view+json": {
       "model_id": "30fcdc5925c045358fcd5b94e1f8a9c1",
       "version_major": 2,
       "version_minor": 0
      },
      "text/plain": [
       "Iteration:   0%|          | 0/107 [00:00<?, ?it/s]"
      ]
     },
     "metadata": {},
     "output_type": "display_data"
    },
    {
     "name": "stdout",
     "output_type": "stream",
     "text": [
      "2024-01-01 23:26:40 - EmbeddingSimilarityEvaluator: Evaluating the model on wordsim_dev dataset after epoch 30:\n",
      "2024-01-01 23:26:41 - Cosine-Similarity :\tPearson: 0.7528\tSpearman: 0.7412\n",
      "2024-01-01 23:26:41 - Manhattan-Distance:\tPearson: 0.7374\tSpearman: 0.7207\n",
      "2024-01-01 23:26:41 - Euclidean-Distance:\tPearson: 0.7369\tSpearman: 0.7202\n",
      "2024-01-01 23:26:41 - Dot-Product-Similarity:\tPearson: 0.7456\tSpearman: 0.7361\n"
     ]
    },
    {
     "data": {
      "application/vnd.jupyter.widget-view+json": {
       "model_id": "3434d6dd8c234392997454526437edf3",
       "version_major": 2,
       "version_minor": 0
      },
      "text/plain": [
       "Iteration:   0%|          | 0/107 [00:00<?, ?it/s]"
      ]
     },
     "metadata": {},
     "output_type": "display_data"
    },
    {
     "name": "stdout",
     "output_type": "stream",
     "text": [
      "2024-01-01 23:26:49 - EmbeddingSimilarityEvaluator: Evaluating the model on wordsim_dev dataset after epoch 31:\n",
      "2024-01-01 23:26:50 - Cosine-Similarity :\tPearson: 0.7516\tSpearman: 0.7399\n",
      "2024-01-01 23:26:50 - Manhattan-Distance:\tPearson: 0.7355\tSpearman: 0.7202\n",
      "2024-01-01 23:26:50 - Euclidean-Distance:\tPearson: 0.7348\tSpearman: 0.7184\n",
      "2024-01-01 23:26:50 - Dot-Product-Similarity:\tPearson: 0.7442\tSpearman: 0.7356\n"
     ]
    },
    {
     "data": {
      "application/vnd.jupyter.widget-view+json": {
       "model_id": "36525cb4b25649d5b0d0ce9a14f9a252",
       "version_major": 2,
       "version_minor": 0
      },
      "text/plain": [
       "Iteration:   0%|          | 0/107 [00:00<?, ?it/s]"
      ]
     },
     "metadata": {},
     "output_type": "display_data"
    },
    {
     "name": "stdout",
     "output_type": "stream",
     "text": [
      "2024-01-01 23:26:58 - EmbeddingSimilarityEvaluator: Evaluating the model on wordsim_dev dataset after epoch 32:\n",
      "2024-01-01 23:26:59 - Cosine-Similarity :\tPearson: 0.7506\tSpearman: 0.7390\n",
      "2024-01-01 23:26:59 - Manhattan-Distance:\tPearson: 0.7346\tSpearman: 0.7180\n",
      "2024-01-01 23:26:59 - Euclidean-Distance:\tPearson: 0.7341\tSpearman: 0.7171\n",
      "2024-01-01 23:26:59 - Dot-Product-Similarity:\tPearson: 0.7423\tSpearman: 0.7328\n"
     ]
    },
    {
     "data": {
      "application/vnd.jupyter.widget-view+json": {
       "model_id": "86b50be3603a43efb31c2095e744209f",
       "version_major": 2,
       "version_minor": 0
      },
      "text/plain": [
       "Iteration:   0%|          | 0/107 [00:00<?, ?it/s]"
      ]
     },
     "metadata": {},
     "output_type": "display_data"
    },
    {
     "name": "stdout",
     "output_type": "stream",
     "text": [
      "2024-01-01 23:27:07 - EmbeddingSimilarityEvaluator: Evaluating the model on wordsim_dev dataset after epoch 33:\n",
      "2024-01-01 23:27:08 - Cosine-Similarity :\tPearson: 0.7488\tSpearman: 0.7370\n",
      "2024-01-01 23:27:08 - Manhattan-Distance:\tPearson: 0.7309\tSpearman: 0.7139\n",
      "2024-01-01 23:27:08 - Euclidean-Distance:\tPearson: 0.7306\tSpearman: 0.7133\n",
      "2024-01-01 23:27:08 - Dot-Product-Similarity:\tPearson: 0.7417\tSpearman: 0.7326\n"
     ]
    },
    {
     "data": {
      "application/vnd.jupyter.widget-view+json": {
       "model_id": "8f4d5b6825724deebb6d572f259e5210",
       "version_major": 2,
       "version_minor": 0
      },
      "text/plain": [
       "Iteration:   0%|          | 0/107 [00:00<?, ?it/s]"
      ]
     },
     "metadata": {},
     "output_type": "display_data"
    },
    {
     "name": "stdout",
     "output_type": "stream",
     "text": [
      "2024-01-01 23:27:16 - EmbeddingSimilarityEvaluator: Evaluating the model on wordsim_dev dataset after epoch 34:\n",
      "2024-01-01 23:27:17 - Cosine-Similarity :\tPearson: 0.7511\tSpearman: 0.7396\n",
      "2024-01-01 23:27:17 - Manhattan-Distance:\tPearson: 0.7328\tSpearman: 0.7161\n",
      "2024-01-01 23:27:17 - Euclidean-Distance:\tPearson: 0.7325\tSpearman: 0.7155\n",
      "2024-01-01 23:27:17 - Dot-Product-Similarity:\tPearson: 0.7433\tSpearman: 0.7350\n"
     ]
    },
    {
     "data": {
      "application/vnd.jupyter.widget-view+json": {
       "model_id": "d81ed98e702b4bd3a6adf0d1f9c328f1",
       "version_major": 2,
       "version_minor": 0
      },
      "text/plain": [
       "Iteration:   0%|          | 0/107 [00:00<?, ?it/s]"
      ]
     },
     "metadata": {},
     "output_type": "display_data"
    },
    {
     "name": "stdout",
     "output_type": "stream",
     "text": [
      "2024-01-01 23:27:25 - EmbeddingSimilarityEvaluator: Evaluating the model on wordsim_dev dataset after epoch 35:\n",
      "2024-01-01 23:27:26 - Cosine-Similarity :\tPearson: 0.7475\tSpearman: 0.7355\n",
      "2024-01-01 23:27:26 - Manhattan-Distance:\tPearson: 0.7286\tSpearman: 0.7116\n",
      "2024-01-01 23:27:26 - Euclidean-Distance:\tPearson: 0.7283\tSpearman: 0.7101\n",
      "2024-01-01 23:27:26 - Dot-Product-Similarity:\tPearson: 0.7408\tSpearman: 0.7310\n"
     ]
    },
    {
     "data": {
      "application/vnd.jupyter.widget-view+json": {
       "model_id": "d0a82843025d4afcab071098eb2d706f",
       "version_major": 2,
       "version_minor": 0
      },
      "text/plain": [
       "Iteration:   0%|          | 0/107 [00:00<?, ?it/s]"
      ]
     },
     "metadata": {},
     "output_type": "display_data"
    },
    {
     "name": "stdout",
     "output_type": "stream",
     "text": [
      "2024-01-01 23:27:34 - EmbeddingSimilarityEvaluator: Evaluating the model on wordsim_dev dataset after epoch 36:\n",
      "2024-01-01 23:27:34 - Cosine-Similarity :\tPearson: 0.7481\tSpearman: 0.7374\n",
      "2024-01-01 23:27:34 - Manhattan-Distance:\tPearson: 0.7288\tSpearman: 0.7118\n",
      "2024-01-01 23:27:34 - Euclidean-Distance:\tPearson: 0.7286\tSpearman: 0.7112\n",
      "2024-01-01 23:27:34 - Dot-Product-Similarity:\tPearson: 0.7412\tSpearman: 0.7330\n"
     ]
    },
    {
     "data": {
      "application/vnd.jupyter.widget-view+json": {
       "model_id": "7b24d9c88ae8415f8868bedbe8763fc5",
       "version_major": 2,
       "version_minor": 0
      },
      "text/plain": [
       "Iteration:   0%|          | 0/107 [00:00<?, ?it/s]"
      ]
     },
     "metadata": {},
     "output_type": "display_data"
    },
    {
     "name": "stdout",
     "output_type": "stream",
     "text": [
      "2024-01-01 23:27:43 - EmbeddingSimilarityEvaluator: Evaluating the model on wordsim_dev dataset after epoch 37:\n",
      "2024-01-01 23:27:43 - Cosine-Similarity :\tPearson: 0.7470\tSpearman: 0.7348\n",
      "2024-01-01 23:27:43 - Manhattan-Distance:\tPearson: 0.7274\tSpearman: 0.7092\n",
      "2024-01-01 23:27:43 - Euclidean-Distance:\tPearson: 0.7273\tSpearman: 0.7089\n",
      "2024-01-01 23:27:43 - Dot-Product-Similarity:\tPearson: 0.7409\tSpearman: 0.7316\n"
     ]
    },
    {
     "data": {
      "application/vnd.jupyter.widget-view+json": {
       "model_id": "0fd6622d79974f3c9efd4493addd11eb",
       "version_major": 2,
       "version_minor": 0
      },
      "text/plain": [
       "Iteration:   0%|          | 0/107 [00:00<?, ?it/s]"
      ]
     },
     "metadata": {},
     "output_type": "display_data"
    },
    {
     "name": "stdout",
     "output_type": "stream",
     "text": [
      "2024-01-01 23:27:52 - EmbeddingSimilarityEvaluator: Evaluating the model on wordsim_dev dataset after epoch 38:\n",
      "2024-01-01 23:27:52 - Cosine-Similarity :\tPearson: 0.7485\tSpearman: 0.7375\n",
      "2024-01-01 23:27:52 - Manhattan-Distance:\tPearson: 0.7288\tSpearman: 0.7118\n",
      "2024-01-01 23:27:52 - Euclidean-Distance:\tPearson: 0.7288\tSpearman: 0.7113\n",
      "2024-01-01 23:27:52 - Dot-Product-Similarity:\tPearson: 0.7418\tSpearman: 0.7331\n"
     ]
    },
    {
     "data": {
      "application/vnd.jupyter.widget-view+json": {
       "model_id": "5975870702af43488f0bb083a9cf8d6c",
       "version_major": 2,
       "version_minor": 0
      },
      "text/plain": [
       "Iteration:   0%|          | 0/107 [00:00<?, ?it/s]"
      ]
     },
     "metadata": {},
     "output_type": "display_data"
    },
    {
     "name": "stdout",
     "output_type": "stream",
     "text": [
      "2024-01-01 23:28:01 - EmbeddingSimilarityEvaluator: Evaluating the model on wordsim_dev dataset after epoch 39:\n",
      "2024-01-01 23:28:01 - Cosine-Similarity :\tPearson: 0.7467\tSpearman: 0.7343\n",
      "2024-01-01 23:28:01 - Manhattan-Distance:\tPearson: 0.7264\tSpearman: 0.7080\n",
      "2024-01-01 23:28:01 - Euclidean-Distance:\tPearson: 0.7264\tSpearman: 0.7079\n",
      "2024-01-01 23:28:01 - Dot-Product-Similarity:\tPearson: 0.7395\tSpearman: 0.7304\n"
     ]
    },
    {
     "data": {
      "application/vnd.jupyter.widget-view+json": {
       "model_id": "18fec86085ab4acab676633d447b1c84",
       "version_major": 2,
       "version_minor": 0
      },
      "text/plain": [
       "Iteration:   0%|          | 0/107 [00:00<?, ?it/s]"
      ]
     },
     "metadata": {},
     "output_type": "display_data"
    },
    {
     "name": "stdout",
     "output_type": "stream",
     "text": [
      "2024-01-01 23:28:10 - EmbeddingSimilarityEvaluator: Evaluating the model on wordsim_dev dataset after epoch 40:\n",
      "2024-01-01 23:28:10 - Cosine-Similarity :\tPearson: 0.7467\tSpearman: 0.7348\n",
      "2024-01-01 23:28:10 - Manhattan-Distance:\tPearson: 0.7268\tSpearman: 0.7084\n",
      "2024-01-01 23:28:10 - Euclidean-Distance:\tPearson: 0.7269\tSpearman: 0.7084\n",
      "2024-01-01 23:28:10 - Dot-Product-Similarity:\tPearson: 0.7396\tSpearman: 0.7305\n"
     ]
    },
    {
     "data": {
      "application/vnd.jupyter.widget-view+json": {
       "model_id": "96e7169f0d9f418f811124c8c64f55a9",
       "version_major": 2,
       "version_minor": 0
      },
      "text/plain": [
       "Iteration:   0%|          | 0/107 [00:00<?, ?it/s]"
      ]
     },
     "metadata": {},
     "output_type": "display_data"
    },
    {
     "name": "stdout",
     "output_type": "stream",
     "text": [
      "2024-01-01 23:28:19 - EmbeddingSimilarityEvaluator: Evaluating the model on wordsim_dev dataset after epoch 41:\n",
      "2024-01-01 23:28:19 - Cosine-Similarity :\tPearson: 0.7477\tSpearman: 0.7360\n",
      "2024-01-01 23:28:19 - Manhattan-Distance:\tPearson: 0.7279\tSpearman: 0.7099\n",
      "2024-01-01 23:28:19 - Euclidean-Distance:\tPearson: 0.7280\tSpearman: 0.7098\n",
      "2024-01-01 23:28:19 - Dot-Product-Similarity:\tPearson: 0.7407\tSpearman: 0.7317\n"
     ]
    },
    {
     "data": {
      "application/vnd.jupyter.widget-view+json": {
       "model_id": "d76cb1b6053a458489b7f60ac70badbc",
       "version_major": 2,
       "version_minor": 0
      },
      "text/plain": [
       "Iteration:   0%|          | 0/107 [00:00<?, ?it/s]"
      ]
     },
     "metadata": {},
     "output_type": "display_data"
    },
    {
     "name": "stdout",
     "output_type": "stream",
     "text": [
      "2024-01-01 23:28:27 - EmbeddingSimilarityEvaluator: Evaluating the model on wordsim_dev dataset after epoch 42:\n",
      "2024-01-01 23:28:28 - Cosine-Similarity :\tPearson: 0.7463\tSpearman: 0.7343\n",
      "2024-01-01 23:28:28 - Manhattan-Distance:\tPearson: 0.7268\tSpearman: 0.7085\n",
      "2024-01-01 23:28:28 - Euclidean-Distance:\tPearson: 0.7269\tSpearman: 0.7086\n",
      "2024-01-01 23:28:28 - Dot-Product-Similarity:\tPearson: 0.7389\tSpearman: 0.7302\n"
     ]
    },
    {
     "data": {
      "application/vnd.jupyter.widget-view+json": {
       "model_id": "b6c5f9e9ed484f99ae982e49c7f203ec",
       "version_major": 2,
       "version_minor": 0
      },
      "text/plain": [
       "Iteration:   0%|          | 0/107 [00:00<?, ?it/s]"
      ]
     },
     "metadata": {},
     "output_type": "display_data"
    },
    {
     "name": "stdout",
     "output_type": "stream",
     "text": [
      "2024-01-01 23:28:36 - EmbeddingSimilarityEvaluator: Evaluating the model on wordsim_dev dataset after epoch 43:\n",
      "2024-01-01 23:28:37 - Cosine-Similarity :\tPearson: 0.7473\tSpearman: 0.7357\n",
      "2024-01-01 23:28:37 - Manhattan-Distance:\tPearson: 0.7280\tSpearman: 0.7100\n",
      "2024-01-01 23:28:37 - Euclidean-Distance:\tPearson: 0.7281\tSpearman: 0.7098\n",
      "2024-01-01 23:28:37 - Dot-Product-Similarity:\tPearson: 0.7398\tSpearman: 0.7308\n"
     ]
    },
    {
     "data": {
      "application/vnd.jupyter.widget-view+json": {
       "model_id": "f5a8e769bb53451482ed33e3d6bfef69",
       "version_major": 2,
       "version_minor": 0
      },
      "text/plain": [
       "Iteration:   0%|          | 0/107 [00:00<?, ?it/s]"
      ]
     },
     "metadata": {},
     "output_type": "display_data"
    },
    {
     "name": "stdout",
     "output_type": "stream",
     "text": [
      "2024-01-01 23:28:45 - EmbeddingSimilarityEvaluator: Evaluating the model on wordsim_dev dataset after epoch 44:\n",
      "2024-01-01 23:28:46 - Cosine-Similarity :\tPearson: 0.7482\tSpearman: 0.7365\n",
      "2024-01-01 23:28:46 - Manhattan-Distance:\tPearson: 0.7287\tSpearman: 0.7100\n",
      "2024-01-01 23:28:46 - Euclidean-Distance:\tPearson: 0.7286\tSpearman: 0.7105\n",
      "2024-01-01 23:28:46 - Dot-Product-Similarity:\tPearson: 0.7405\tSpearman: 0.7322\n"
     ]
    },
    {
     "data": {
      "application/vnd.jupyter.widget-view+json": {
       "model_id": "71a1277faf7a46929dbb700dea6c5eeb",
       "version_major": 2,
       "version_minor": 0
      },
      "text/plain": [
       "Iteration:   0%|          | 0/107 [00:00<?, ?it/s]"
      ]
     },
     "metadata": {},
     "output_type": "display_data"
    },
    {
     "name": "stdout",
     "output_type": "stream",
     "text": [
      "2024-01-01 23:28:54 - EmbeddingSimilarityEvaluator: Evaluating the model on wordsim_dev dataset after epoch 45:\n",
      "2024-01-01 23:28:55 - Cosine-Similarity :\tPearson: 0.7478\tSpearman: 0.7359\n",
      "2024-01-01 23:28:55 - Manhattan-Distance:\tPearson: 0.7280\tSpearman: 0.7101\n",
      "2024-01-01 23:28:55 - Euclidean-Distance:\tPearson: 0.7280\tSpearman: 0.7099\n",
      "2024-01-01 23:28:55 - Dot-Product-Similarity:\tPearson: 0.7405\tSpearman: 0.7323\n"
     ]
    },
    {
     "data": {
      "application/vnd.jupyter.widget-view+json": {
       "model_id": "18bc416ffa7644c28ac61c74af437109",
       "version_major": 2,
       "version_minor": 0
      },
      "text/plain": [
       "Iteration:   0%|          | 0/107 [00:00<?, ?it/s]"
      ]
     },
     "metadata": {},
     "output_type": "display_data"
    },
    {
     "name": "stdout",
     "output_type": "stream",
     "text": [
      "2024-01-01 23:29:03 - EmbeddingSimilarityEvaluator: Evaluating the model on wordsim_dev dataset after epoch 46:\n",
      "2024-01-01 23:29:04 - Cosine-Similarity :\tPearson: 0.7470\tSpearman: 0.7346\n",
      "2024-01-01 23:29:04 - Manhattan-Distance:\tPearson: 0.7271\tSpearman: 0.7088\n",
      "2024-01-01 23:29:04 - Euclidean-Distance:\tPearson: 0.7271\tSpearman: 0.7089\n",
      "2024-01-01 23:29:04 - Dot-Product-Similarity:\tPearson: 0.7393\tSpearman: 0.7302\n"
     ]
    },
    {
     "data": {
      "application/vnd.jupyter.widget-view+json": {
       "model_id": "1dbcd9f2cbf34c618d2e3fb45ba04407",
       "version_major": 2,
       "version_minor": 0
      },
      "text/plain": [
       "Iteration:   0%|          | 0/107 [00:00<?, ?it/s]"
      ]
     },
     "metadata": {},
     "output_type": "display_data"
    },
    {
     "name": "stdout",
     "output_type": "stream",
     "text": [
      "2024-01-01 23:29:12 - EmbeddingSimilarityEvaluator: Evaluating the model on wordsim_dev dataset after epoch 47:\n",
      "2024-01-01 23:29:13 - Cosine-Similarity :\tPearson: 0.7466\tSpearman: 0.7344\n",
      "2024-01-01 23:29:13 - Manhattan-Distance:\tPearson: 0.7269\tSpearman: 0.7096\n",
      "2024-01-01 23:29:13 - Euclidean-Distance:\tPearson: 0.7269\tSpearman: 0.7089\n",
      "2024-01-01 23:29:13 - Dot-Product-Similarity:\tPearson: 0.7387\tSpearman: 0.7299\n"
     ]
    },
    {
     "data": {
      "application/vnd.jupyter.widget-view+json": {
       "model_id": "7626911655b34caf9246c2e4ad83fe2f",
       "version_major": 2,
       "version_minor": 0
      },
      "text/plain": [
       "Iteration:   0%|          | 0/107 [00:00<?, ?it/s]"
      ]
     },
     "metadata": {},
     "output_type": "display_data"
    },
    {
     "name": "stdout",
     "output_type": "stream",
     "text": [
      "2024-01-01 23:29:21 - EmbeddingSimilarityEvaluator: Evaluating the model on wordsim_dev dataset after epoch 48:\n",
      "2024-01-01 23:29:22 - Cosine-Similarity :\tPearson: 0.7461\tSpearman: 0.7337\n",
      "2024-01-01 23:29:22 - Manhattan-Distance:\tPearson: 0.7264\tSpearman: 0.7087\n",
      "2024-01-01 23:29:22 - Euclidean-Distance:\tPearson: 0.7264\tSpearman: 0.7081\n",
      "2024-01-01 23:29:22 - Dot-Product-Similarity:\tPearson: 0.7386\tSpearman: 0.7298\n"
     ]
    },
    {
     "data": {
      "application/vnd.jupyter.widget-view+json": {
       "model_id": "cf30835aeeb5499f96e28e3e23965143",
       "version_major": 2,
       "version_minor": 0
      },
      "text/plain": [
       "Iteration:   0%|          | 0/107 [00:00<?, ?it/s]"
      ]
     },
     "metadata": {},
     "output_type": "display_data"
    },
    {
     "name": "stdout",
     "output_type": "stream",
     "text": [
      "2024-01-01 23:29:30 - EmbeddingSimilarityEvaluator: Evaluating the model on wordsim_dev dataset after epoch 49:\n",
      "2024-01-01 23:29:31 - Cosine-Similarity :\tPearson: 0.7463\tSpearman: 0.7340\n",
      "2024-01-01 23:29:31 - Manhattan-Distance:\tPearson: 0.7265\tSpearman: 0.7089\n",
      "2024-01-01 23:29:31 - Euclidean-Distance:\tPearson: 0.7265\tSpearman: 0.7084\n",
      "2024-01-01 23:29:31 - Dot-Product-Similarity:\tPearson: 0.7388\tSpearman: 0.7299\n",
      "2024-01-01 23:29:31 - Load pretrained SentenceTransformer: ../output/word_sim_bert-base-cased/seed_0\n",
      "2024-01-01 23:29:31 - Use pytorch device_name: cuda\n",
      "2024-01-01 23:29:31 - EmbeddingSimilarityEvaluator: Evaluating the model on wordsim_test dataset:\n",
      "2024-01-01 23:29:32 - Cosine-Similarity :\tPearson: 0.7353\tSpearman: 0.7322\n",
      "2024-01-01 23:29:32 - Manhattan-Distance:\tPearson: 0.7291\tSpearman: 0.7230\n",
      "2024-01-01 23:29:32 - Euclidean-Distance:\tPearson: 0.7286\tSpearman: 0.7225\n",
      "2024-01-01 23:29:32 - Dot-Product-Similarity:\tPearson: 0.7212\tSpearman: 0.7200\n"
     ]
    }
   ],
   "source": [
    "model_name = \"bert-base-cased\"\n",
    "num_epochs = 50\n",
    "\n",
    "data = pd.read_csv(\"../datasets/explicitsim353.csv\").values\n",
    "data2 = pd.read_csv(\"../datasets/SimLex-999.txt\", delimiter=\"\\t\")[[\"word1\",\"word2\",\"SimLex999\"]].values\n",
    "data3 = pd.read_csv(\"../datasets/SimVerb-3500.txt\", delimiter=\"\\t\", header=None, usecols=[0,1,3]).values\n",
    "data = np.concatenate((data, data2, data3), axis=0)\n",
    "\n",
    "train, dev = train_test_split(data, test_size=0.3)\n",
    "dev, test = train_test_split(dev, test_size=0.5)\n",
    "\n",
    "train_samples = [InputExample(texts=[x[0],x[1]], label=x[2]/10) for x in train.tolist()]\n",
    "dev_samples = [InputExample(texts=[x[0],x[1]], label=x[2]/10) for x in dev.tolist()]\n",
    "test_samples = [InputExample(texts=[x[0],x[1]], label=x[2]/10) for x in test.tolist()]\n",
    "\n",
    "\n",
    "#### Just some code to print debug information to stdout\n",
    "logging.basicConfig(\n",
    "    format='%(asctime)s - %(message)s',\n",
    "    datefmt='%Y-%m-%d %H:%M:%S',\n",
    "    level=logging.INFO,\n",
    "    handlers=[LoggingHandler()]\n",
    ")\n",
    "\n",
    "\n",
    "model_save_path = '../output/word_sim_'+model_name.replace(\"/\", \"-\")\n",
    "for seed in range(1):\n",
    "    logging.info(\"##### Seed {} #####\".format(seed))\n",
    "    random.seed(seed)\n",
    "    np.random.seed(seed)\n",
    "    torch.manual_seed(seed)\n",
    "\n",
    "    word_embedding_model = models.Transformer(model_name)\n",
    "    pooling_model = models.Pooling(\n",
    "        word_embedding_model.get_word_embedding_dimension(),\n",
    "        pooling_mode_mean_tokens=True,\n",
    "        pooling_mode_cls_token=False,\n",
    "        pooling_mode_max_tokens=False\n",
    "    )\n",
    "\n",
    "    model = SentenceTransformer(modules=[word_embedding_model, pooling_model])\n",
    "\n",
    "    curr_model_save_path = model_save_path + '/seed_'+str(seed)\n",
    "\n",
    "    train_dataloader = DataLoader(train_samples, shuffle=True, batch_size=32)\n",
    "    train_loss = losses.CosineSimilarityLoss(model=model)\n",
    "\n",
    "    evaluator = EmbeddingSimilarityEvaluator.from_input_examples(dev_samples, name='wordsim_dev')\n",
    "\n",
    "    warmup_steps = math.ceil(len(train_dataloader) * num_epochs  * 0.1) #10% of train data for warm-up\n",
    "    logging.info(\"Warmup-steps: {}\".format(warmup_steps))\n",
    "\n",
    "    # Train the model\n",
    "    model.fit(\n",
    "        train_objectives=[(train_dataloader, train_loss)],\n",
    "        evaluator=evaluator,\n",
    "        epochs=num_epochs,\n",
    "        #evaluation_steps=1000,\n",
    "        warmup_steps=warmup_steps,\n",
    "        output_path=curr_model_save_path\n",
    "    )\n",
    "\n",
    "    model = SentenceTransformer(curr_model_save_path)\n",
    "    test_evaluator = EmbeddingSimilarityEvaluator.from_input_examples(test_samples, name='wordsim_test')\n",
    "    test_evaluator(model, output_path=curr_model_save_path)"
   ]
  },
  {
   "cell_type": "code",
   "execution_count": 77,
   "id": "d3da95cb",
   "metadata": {},
   "outputs": [
    {
     "name": "stdout",
     "output_type": "stream",
     "text": [
      "2024-01-02 01:37:44 - ##### Seed 0 #####\n",
      "2024-01-02 01:37:45 - Use pytorch device_name: cuda\n"
     ]
    },
    {
     "ename": "RuntimeError",
     "evalue": "CUDA error: unspecified launch failure\nCUDA kernel errors might be asynchronously reported at some other API call, so the stacktrace below might be incorrect.\nFor debugging consider passing CUDA_LAUNCH_BLOCKING=1.\nCompile with `TORCH_USE_CUDA_DSA` to enable device-side assertions.\n",
     "output_type": "error",
     "traceback": [
      "\u001b[0;31m---------------------------------------------------------------------------\u001b[0m",
      "\u001b[0;31mRuntimeError\u001b[0m                              Traceback (most recent call last)",
      "Cell \u001b[0;32mIn[77], line 41\u001b[0m\n\u001b[1;32m     33\u001b[0m word_embedding_model \u001b[38;5;241m=\u001b[39m models\u001b[38;5;241m.\u001b[39mTransformer(model_name)\n\u001b[1;32m     34\u001b[0m pooling_model \u001b[38;5;241m=\u001b[39m models\u001b[38;5;241m.\u001b[39mPooling(\n\u001b[1;32m     35\u001b[0m     word_embedding_model\u001b[38;5;241m.\u001b[39mget_word_embedding_dimension(),\n\u001b[1;32m     36\u001b[0m     pooling_mode_mean_tokens\u001b[38;5;241m=\u001b[39m\u001b[38;5;28;01mTrue\u001b[39;00m,\n\u001b[1;32m     37\u001b[0m     pooling_mode_cls_token\u001b[38;5;241m=\u001b[39m\u001b[38;5;28;01mFalse\u001b[39;00m,\n\u001b[1;32m     38\u001b[0m     pooling_mode_max_tokens\u001b[38;5;241m=\u001b[39m\u001b[38;5;28;01mFalse\u001b[39;00m\n\u001b[1;32m     39\u001b[0m )\n\u001b[0;32m---> 41\u001b[0m model \u001b[38;5;241m=\u001b[39m \u001b[43mSentenceTransformer\u001b[49m\u001b[43m(\u001b[49m\u001b[43mmodules\u001b[49m\u001b[38;5;241;43m=\u001b[39;49m\u001b[43m[\u001b[49m\u001b[43mword_embedding_model\u001b[49m\u001b[43m,\u001b[49m\u001b[43m \u001b[49m\u001b[43mpooling_model\u001b[49m\u001b[43m]\u001b[49m\u001b[43m)\u001b[49m\n\u001b[1;32m     43\u001b[0m curr_model_save_path \u001b[38;5;241m=\u001b[39m model_save_path \u001b[38;5;241m+\u001b[39m \u001b[38;5;124m'\u001b[39m\u001b[38;5;124m/seed_\u001b[39m\u001b[38;5;124m'\u001b[39m\u001b[38;5;241m+\u001b[39m\u001b[38;5;28mstr\u001b[39m(seed)\n\u001b[1;32m     45\u001b[0m train_dataloader \u001b[38;5;241m=\u001b[39m DataLoader(train_samples, shuffle\u001b[38;5;241m=\u001b[39m\u001b[38;5;28;01mTrue\u001b[39;00m, batch_size\u001b[38;5;241m=\u001b[39m\u001b[38;5;241m32\u001b[39m)\n",
      "File \u001b[0;32m~/.local/lib/python3.10/site-packages/sentence_transformers/SentenceTransformer.py:129\u001b[0m, in \u001b[0;36mSentenceTransformer.__init__\u001b[0;34m(self, model_name_or_path, modules, device, cache_folder, token, use_auth_token)\u001b[0m\n\u001b[1;32m    126\u001b[0m     device \u001b[38;5;241m=\u001b[39m get_device_name()\n\u001b[1;32m    127\u001b[0m     logger\u001b[38;5;241m.\u001b[39minfo(\u001b[38;5;124m\"\u001b[39m\u001b[38;5;124mUse pytorch device_name: \u001b[39m\u001b[38;5;132;01m{}\u001b[39;00m\u001b[38;5;124m\"\u001b[39m\u001b[38;5;241m.\u001b[39mformat(device))\n\u001b[0;32m--> 129\u001b[0m \u001b[38;5;28;43mself\u001b[39;49m\u001b[38;5;241;43m.\u001b[39;49m\u001b[43mto\u001b[49m\u001b[43m(\u001b[49m\u001b[43mdevice\u001b[49m\u001b[43m)\u001b[49m\n",
      "File \u001b[0;32m~/.local/lib/python3.10/site-packages/torch/nn/modules/module.py:1160\u001b[0m, in \u001b[0;36mModule.to\u001b[0;34m(self, *args, **kwargs)\u001b[0m\n\u001b[1;32m   1156\u001b[0m         \u001b[38;5;28;01mreturn\u001b[39;00m t\u001b[38;5;241m.\u001b[39mto(device, dtype \u001b[38;5;28;01mif\u001b[39;00m t\u001b[38;5;241m.\u001b[39mis_floating_point() \u001b[38;5;129;01mor\u001b[39;00m t\u001b[38;5;241m.\u001b[39mis_complex() \u001b[38;5;28;01melse\u001b[39;00m \u001b[38;5;28;01mNone\u001b[39;00m,\n\u001b[1;32m   1157\u001b[0m                     non_blocking, memory_format\u001b[38;5;241m=\u001b[39mconvert_to_format)\n\u001b[1;32m   1158\u001b[0m     \u001b[38;5;28;01mreturn\u001b[39;00m t\u001b[38;5;241m.\u001b[39mto(device, dtype \u001b[38;5;28;01mif\u001b[39;00m t\u001b[38;5;241m.\u001b[39mis_floating_point() \u001b[38;5;129;01mor\u001b[39;00m t\u001b[38;5;241m.\u001b[39mis_complex() \u001b[38;5;28;01melse\u001b[39;00m \u001b[38;5;28;01mNone\u001b[39;00m, non_blocking)\n\u001b[0;32m-> 1160\u001b[0m \u001b[38;5;28;01mreturn\u001b[39;00m \u001b[38;5;28;43mself\u001b[39;49m\u001b[38;5;241;43m.\u001b[39;49m\u001b[43m_apply\u001b[49m\u001b[43m(\u001b[49m\u001b[43mconvert\u001b[49m\u001b[43m)\u001b[49m\n",
      "File \u001b[0;32m~/.local/lib/python3.10/site-packages/torch/nn/modules/module.py:810\u001b[0m, in \u001b[0;36mModule._apply\u001b[0;34m(self, fn, recurse)\u001b[0m\n\u001b[1;32m    808\u001b[0m \u001b[38;5;28;01mif\u001b[39;00m recurse:\n\u001b[1;32m    809\u001b[0m     \u001b[38;5;28;01mfor\u001b[39;00m module \u001b[38;5;129;01min\u001b[39;00m \u001b[38;5;28mself\u001b[39m\u001b[38;5;241m.\u001b[39mchildren():\n\u001b[0;32m--> 810\u001b[0m         \u001b[43mmodule\u001b[49m\u001b[38;5;241;43m.\u001b[39;49m\u001b[43m_apply\u001b[49m\u001b[43m(\u001b[49m\u001b[43mfn\u001b[49m\u001b[43m)\u001b[49m\n\u001b[1;32m    812\u001b[0m \u001b[38;5;28;01mdef\u001b[39;00m \u001b[38;5;21mcompute_should_use_set_data\u001b[39m(tensor, tensor_applied):\n\u001b[1;32m    813\u001b[0m     \u001b[38;5;28;01mif\u001b[39;00m torch\u001b[38;5;241m.\u001b[39m_has_compatible_shallow_copy_type(tensor, tensor_applied):\n\u001b[1;32m    814\u001b[0m         \u001b[38;5;66;03m# If the new tensor has compatible tensor type as the existing tensor,\u001b[39;00m\n\u001b[1;32m    815\u001b[0m         \u001b[38;5;66;03m# the current behavior is to change the tensor in-place using `.data =`,\u001b[39;00m\n\u001b[0;32m   (...)\u001b[0m\n\u001b[1;32m    820\u001b[0m         \u001b[38;5;66;03m# global flag to let the user control whether they want the future\u001b[39;00m\n\u001b[1;32m    821\u001b[0m         \u001b[38;5;66;03m# behavior of overwriting the existing tensor or not.\u001b[39;00m\n",
      "File \u001b[0;32m~/.local/lib/python3.10/site-packages/torch/nn/modules/module.py:810\u001b[0m, in \u001b[0;36mModule._apply\u001b[0;34m(self, fn, recurse)\u001b[0m\n\u001b[1;32m    808\u001b[0m \u001b[38;5;28;01mif\u001b[39;00m recurse:\n\u001b[1;32m    809\u001b[0m     \u001b[38;5;28;01mfor\u001b[39;00m module \u001b[38;5;129;01min\u001b[39;00m \u001b[38;5;28mself\u001b[39m\u001b[38;5;241m.\u001b[39mchildren():\n\u001b[0;32m--> 810\u001b[0m         \u001b[43mmodule\u001b[49m\u001b[38;5;241;43m.\u001b[39;49m\u001b[43m_apply\u001b[49m\u001b[43m(\u001b[49m\u001b[43mfn\u001b[49m\u001b[43m)\u001b[49m\n\u001b[1;32m    812\u001b[0m \u001b[38;5;28;01mdef\u001b[39;00m \u001b[38;5;21mcompute_should_use_set_data\u001b[39m(tensor, tensor_applied):\n\u001b[1;32m    813\u001b[0m     \u001b[38;5;28;01mif\u001b[39;00m torch\u001b[38;5;241m.\u001b[39m_has_compatible_shallow_copy_type(tensor, tensor_applied):\n\u001b[1;32m    814\u001b[0m         \u001b[38;5;66;03m# If the new tensor has compatible tensor type as the existing tensor,\u001b[39;00m\n\u001b[1;32m    815\u001b[0m         \u001b[38;5;66;03m# the current behavior is to change the tensor in-place using `.data =`,\u001b[39;00m\n\u001b[0;32m   (...)\u001b[0m\n\u001b[1;32m    820\u001b[0m         \u001b[38;5;66;03m# global flag to let the user control whether they want the future\u001b[39;00m\n\u001b[1;32m    821\u001b[0m         \u001b[38;5;66;03m# behavior of overwriting the existing tensor or not.\u001b[39;00m\n",
      "    \u001b[0;31m[... skipping similar frames: Module._apply at line 810 (1 times)]\u001b[0m\n",
      "File \u001b[0;32m~/.local/lib/python3.10/site-packages/torch/nn/modules/module.py:810\u001b[0m, in \u001b[0;36mModule._apply\u001b[0;34m(self, fn, recurse)\u001b[0m\n\u001b[1;32m    808\u001b[0m \u001b[38;5;28;01mif\u001b[39;00m recurse:\n\u001b[1;32m    809\u001b[0m     \u001b[38;5;28;01mfor\u001b[39;00m module \u001b[38;5;129;01min\u001b[39;00m \u001b[38;5;28mself\u001b[39m\u001b[38;5;241m.\u001b[39mchildren():\n\u001b[0;32m--> 810\u001b[0m         \u001b[43mmodule\u001b[49m\u001b[38;5;241;43m.\u001b[39;49m\u001b[43m_apply\u001b[49m\u001b[43m(\u001b[49m\u001b[43mfn\u001b[49m\u001b[43m)\u001b[49m\n\u001b[1;32m    812\u001b[0m \u001b[38;5;28;01mdef\u001b[39;00m \u001b[38;5;21mcompute_should_use_set_data\u001b[39m(tensor, tensor_applied):\n\u001b[1;32m    813\u001b[0m     \u001b[38;5;28;01mif\u001b[39;00m torch\u001b[38;5;241m.\u001b[39m_has_compatible_shallow_copy_type(tensor, tensor_applied):\n\u001b[1;32m    814\u001b[0m         \u001b[38;5;66;03m# If the new tensor has compatible tensor type as the existing tensor,\u001b[39;00m\n\u001b[1;32m    815\u001b[0m         \u001b[38;5;66;03m# the current behavior is to change the tensor in-place using `.data =`,\u001b[39;00m\n\u001b[0;32m   (...)\u001b[0m\n\u001b[1;32m    820\u001b[0m         \u001b[38;5;66;03m# global flag to let the user control whether they want the future\u001b[39;00m\n\u001b[1;32m    821\u001b[0m         \u001b[38;5;66;03m# behavior of overwriting the existing tensor or not.\u001b[39;00m\n",
      "File \u001b[0;32m~/.local/lib/python3.10/site-packages/torch/nn/modules/module.py:833\u001b[0m, in \u001b[0;36mModule._apply\u001b[0;34m(self, fn, recurse)\u001b[0m\n\u001b[1;32m    829\u001b[0m \u001b[38;5;66;03m# Tensors stored in modules are graph leaves, and we don't want to\u001b[39;00m\n\u001b[1;32m    830\u001b[0m \u001b[38;5;66;03m# track autograd history of `param_applied`, so we have to use\u001b[39;00m\n\u001b[1;32m    831\u001b[0m \u001b[38;5;66;03m# `with torch.no_grad():`\u001b[39;00m\n\u001b[1;32m    832\u001b[0m \u001b[38;5;28;01mwith\u001b[39;00m torch\u001b[38;5;241m.\u001b[39mno_grad():\n\u001b[0;32m--> 833\u001b[0m     param_applied \u001b[38;5;241m=\u001b[39m \u001b[43mfn\u001b[49m\u001b[43m(\u001b[49m\u001b[43mparam\u001b[49m\u001b[43m)\u001b[49m\n\u001b[1;32m    834\u001b[0m should_use_set_data \u001b[38;5;241m=\u001b[39m compute_should_use_set_data(param, param_applied)\n\u001b[1;32m    835\u001b[0m \u001b[38;5;28;01mif\u001b[39;00m should_use_set_data:\n",
      "File \u001b[0;32m~/.local/lib/python3.10/site-packages/torch/nn/modules/module.py:1158\u001b[0m, in \u001b[0;36mModule.to.<locals>.convert\u001b[0;34m(t)\u001b[0m\n\u001b[1;32m   1155\u001b[0m \u001b[38;5;28;01mif\u001b[39;00m convert_to_format \u001b[38;5;129;01mis\u001b[39;00m \u001b[38;5;129;01mnot\u001b[39;00m \u001b[38;5;28;01mNone\u001b[39;00m \u001b[38;5;129;01mand\u001b[39;00m t\u001b[38;5;241m.\u001b[39mdim() \u001b[38;5;129;01min\u001b[39;00m (\u001b[38;5;241m4\u001b[39m, \u001b[38;5;241m5\u001b[39m):\n\u001b[1;32m   1156\u001b[0m     \u001b[38;5;28;01mreturn\u001b[39;00m t\u001b[38;5;241m.\u001b[39mto(device, dtype \u001b[38;5;28;01mif\u001b[39;00m t\u001b[38;5;241m.\u001b[39mis_floating_point() \u001b[38;5;129;01mor\u001b[39;00m t\u001b[38;5;241m.\u001b[39mis_complex() \u001b[38;5;28;01melse\u001b[39;00m \u001b[38;5;28;01mNone\u001b[39;00m,\n\u001b[1;32m   1157\u001b[0m                 non_blocking, memory_format\u001b[38;5;241m=\u001b[39mconvert_to_format)\n\u001b[0;32m-> 1158\u001b[0m \u001b[38;5;28;01mreturn\u001b[39;00m \u001b[43mt\u001b[49m\u001b[38;5;241;43m.\u001b[39;49m\u001b[43mto\u001b[49m\u001b[43m(\u001b[49m\u001b[43mdevice\u001b[49m\u001b[43m,\u001b[49m\u001b[43m \u001b[49m\u001b[43mdtype\u001b[49m\u001b[43m \u001b[49m\u001b[38;5;28;43;01mif\u001b[39;49;00m\u001b[43m \u001b[49m\u001b[43mt\u001b[49m\u001b[38;5;241;43m.\u001b[39;49m\u001b[43mis_floating_point\u001b[49m\u001b[43m(\u001b[49m\u001b[43m)\u001b[49m\u001b[43m \u001b[49m\u001b[38;5;129;43;01mor\u001b[39;49;00m\u001b[43m \u001b[49m\u001b[43mt\u001b[49m\u001b[38;5;241;43m.\u001b[39;49m\u001b[43mis_complex\u001b[49m\u001b[43m(\u001b[49m\u001b[43m)\u001b[49m\u001b[43m \u001b[49m\u001b[38;5;28;43;01melse\u001b[39;49;00m\u001b[43m \u001b[49m\u001b[38;5;28;43;01mNone\u001b[39;49;00m\u001b[43m,\u001b[49m\u001b[43m \u001b[49m\u001b[43mnon_blocking\u001b[49m\u001b[43m)\u001b[49m\n",
      "\u001b[0;31mRuntimeError\u001b[0m: CUDA error: unspecified launch failure\nCUDA kernel errors might be asynchronously reported at some other API call, so the stacktrace below might be incorrect.\nFor debugging consider passing CUDA_LAUNCH_BLOCKING=1.\nCompile with `TORCH_USE_CUDA_DSA` to enable device-side assertions.\n"
     ]
    }
   ],
   "source": [
    "model_name = \"google/electra-base-generator\"\n",
    "num_epochs = 50\n",
    "\n",
    "data = pd.read_csv(\"../datasets/explicitsim353.csv\").values\n",
    "data2 = pd.read_csv(\"../datasets/SimLex-999.txt\", delimiter=\"\\t\")[[\"word1\",\"word2\",\"SimLex999\"]].values\n",
    "data3 = pd.read_csv(\"../datasets/SimVerb-3500.txt\", delimiter=\"\\t\", header=None, usecols=[0,1,3]).values\n",
    "data = np.concatenate((data, data2, data3), axis=0)\n",
    "\n",
    "train, dev = train_test_split(data, test_size=0.3)\n",
    "dev, test = train_test_split(dev, test_size=0.5)\n",
    "\n",
    "train_samples = [InputExample(texts=[x[0],x[1]], label=x[2]/10) for x in train.tolist()]\n",
    "dev_samples = [InputExample(texts=[x[0],x[1]], label=x[2]/10) for x in dev.tolist()]\n",
    "test_samples = [InputExample(texts=[x[0],x[1]], label=x[2]/10) for x in test.tolist()]\n",
    "\n",
    "\n",
    "#### Just some code to print debug information to stdout\n",
    "logging.basicConfig(\n",
    "    format='%(asctime)s - %(message)s',\n",
    "    datefmt='%Y-%m-%d %H:%M:%S',\n",
    "    level=logging.INFO,\n",
    "    handlers=[LoggingHandler()]\n",
    ")\n",
    "\n",
    "\n",
    "model_save_path = '../output/word_sim_'+model_name.replace(\"/\", \"-\")\n",
    "for seed in range(1):\n",
    "    logging.info(\"##### Seed {} #####\".format(seed))\n",
    "    random.seed(seed)\n",
    "    np.random.seed(seed)\n",
    "    torch.manual_seed(seed)\n",
    "\n",
    "    word_embedding_model = models.Transformer(model_name)\n",
    "    pooling_model = models.Pooling(\n",
    "        word_embedding_model.get_word_embedding_dimension(),\n",
    "        pooling_mode_mean_tokens=True,\n",
    "        pooling_mode_cls_token=False,\n",
    "        pooling_mode_max_tokens=False\n",
    "    )\n",
    "\n",
    "    model = SentenceTransformer(modules=[word_embedding_model, pooling_model])\n",
    "\n",
    "    curr_model_save_path = model_save_path + '/seed_'+str(seed)\n",
    "\n",
    "    train_dataloader = DataLoader(train_samples, shuffle=True, batch_size=32)\n",
    "    train_loss = losses.CosineSimilarityLoss(model=model)\n",
    "\n",
    "    evaluator = EmbeddingSimilarityEvaluator.from_input_examples(dev_samples, name='wordsim_dev')\n",
    "\n",
    "    warmup_steps = math.ceil(len(train_dataloader) * num_epochs  * 0.1) #10% of train data for warm-up\n",
    "    logging.info(\"Warmup-steps: {}\".format(warmup_steps))\n",
    "\n",
    "    # Train the model\n",
    "    model.fit(\n",
    "        train_objectives=[(train_dataloader, train_loss)],\n",
    "        evaluator=evaluator,\n",
    "        epochs=num_epochs,\n",
    "        #evaluation_steps=1000,\n",
    "        warmup_steps=warmup_steps,\n",
    "        output_path=curr_model_save_path\n",
    "    )\n",
    "\n",
    "    model = SentenceTransformer(curr_model_save_path)\n",
    "    test_evaluator = EmbeddingSimilarityEvaluator.from_input_examples(test_samples, name='wordsim_test')\n",
    "    test_evaluator(model, output_path=curr_model_save_path)"
   ]
  }
 ],
 "metadata": {
  "kernelspec": {
   "display_name": "Python 3 (ipykernel)",
   "language": "python",
   "name": "python3"
  },
  "language_info": {
   "codemirror_mode": {
    "name": "ipython",
    "version": 3
   },
   "file_extension": ".py",
   "mimetype": "text/x-python",
   "name": "python",
   "nbconvert_exporter": "python",
   "pygments_lexer": "ipython3",
   "version": "3.10.12"
  }
 },
 "nbformat": 4,
 "nbformat_minor": 5
}
