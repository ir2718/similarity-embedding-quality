{
 "cells": [
  {
   "cell_type": "code",
   "execution_count": 14,
   "id": "390280de",
   "metadata": {},
   "outputs": [],
   "source": [
    "from transformers import AutoTokenizer, AutoModel\n",
    "import senteval\n",
    "import torch\n",
    "import torch.nn as nn\n",
    "import json\n",
    "import os\n",
    "from tqdm import tqdm"
   ]
  },
  {
   "cell_type": "code",
   "execution_count": 15,
   "id": "bc2066ab",
   "metadata": {},
   "outputs": [],
   "source": [
    "from sentence_transformers.readers import InputExample\n",
    "from torch.utils.data import DataLoader, Dataset\n",
    "import gzip\n",
    "import csv\n",
    "\n",
    "sts_dataset_path = '../datasets/stsbenchmark.tsv.gz'\n",
    "\n",
    "if not os.path.exists(sts_dataset_path):\n",
    "    util.http_get('https://sbert.net/datasets/stsbenchmark.tsv.gz', sts_dataset_path)\n",
    "\n",
    "texts1, texts2 = [], []\n",
    "with gzip.open(sts_dataset_path, 'rt', encoding='utf8') as fIn:\n",
    "    reader = csv.DictReader(fIn, delimiter='\\t', quoting=csv.QUOTE_NONE)\n",
    "    for row in reader:\n",
    "        if row['split'] == 'test':\n",
    "            texts1.append(row['sentence1'])\n",
    "            texts2.append(row['sentence2'])\n",
    "\n",
    "class BaseDataset(Dataset):\n",
    "    def __init__(self, texts1, texts2, scale=None):\n",
    "        self.texts1, self.texts2 = [], []\n",
    "        for t1, t2 in zip(texts1, texts2):\n",
    "            self.texts1.append(t1)\n",
    "            self.texts2.append(t2)\n",
    "\n",
    "    def __getitem__(self, idx):\n",
    "        return (self.texts1[idx], self.texts2[idx])\n",
    "\n",
    "    def __len__(self):\n",
    "        return len(self.texts1)\n",
    "\n",
    "dataset = BaseDataset(texts1, texts2)\n",
    "loader = DataLoader(dataset, batch_size=128)"
   ]
  },
  {
   "cell_type": "code",
   "execution_count": 44,
   "id": "fca37e4f",
   "metadata": {},
   "outputs": [],
   "source": [
    "DEVICE = \"cuda:0\"\n",
    "\n",
    "def batch_to_device(d, device):\n",
    "    return {k: v.to(device) for k, v in d.items()}\n",
    "    \n",
    "class MeanPooling(nn.Module):\n",
    "    \n",
    "    def forward(self, x, attention_mask):\n",
    "        input_mask_expanded = attention_mask.unsqueeze(-1).expand(x.size()).float().to(DEVICE)\n",
    "        emb_sum = torch.sum(x * input_mask_expanded, dim=-2)\n",
    "        sum_mask = torch.clamp(input_mask_expanded.sum(dim=-2), min=1e-9) # denominator\n",
    "        emb_mean = emb_sum / sum_mask\n",
    "        return emb_mean\n",
    "    \n",
    "def batch_cos_sim(x, y):\n",
    "    return (x * y).sum(dim=2) / (x.norm(dim=2, p=2.0) * y.norm(dim=2, p=2.0))\n",
    "    \n",
    "class Bert:\n",
    "\n",
    "    def __init__(self, path=None):\n",
    "        self.tokenizer = AutoTokenizer.from_pretrained(\"bert-base-cased\")\n",
    "        if path is None:\n",
    "            self.model = AutoModel.from_pretrained(\"bert-base-cased\").to(DEVICE)\n",
    "        else:\n",
    "            self.model = torch.load(path).to(DEVICE)\n",
    "        self.pooling = MeanPooling()\n",
    "        self.model.eval()\n",
    "    \n",
    "    @torch.no_grad()\n",
    "    def forward(self, loader):\n",
    "        activations = []\n",
    "        for _, (t1, t2) in tqdm(enumerate(loader)):\n",
    "            tokenized1 = self.tokenizer(t1, padding=True, truncation=True, return_tensors=\"pt\")\n",
    "            tokenized2 = self.tokenizer(t2, padding=True, truncation=True, return_tensors=\"pt\")\n",
    "\n",
    "            tokenized_device1 = batch_to_device(tokenized1, DEVICE)\n",
    "            tokenized_device2 = batch_to_device(tokenized2, DEVICE)\n",
    "\n",
    "            out1 = self.model(**tokenized_device1, output_hidden_states=True).hidden_states\n",
    "            out_mean1 = self.pooling(torch.stack(out1), tokenized_device1[\"attention_mask\"])\n",
    "\n",
    "            out2 = self.model(**tokenized_device2, output_hidden_states=True).hidden_states\n",
    "            out_mean2 = self.pooling(torch.stack(out2), tokenized_device2[\"attention_mask\"])\n",
    "            \n",
    "            cos_sim = batch_cos_sim(out_mean1, out_mean2)\n",
    "            activations.append(cos_sim)\n",
    "        return torch.cat(activations, dim=1).detach()\n",
    "\n",
    "class Electra:\n",
    "\n",
    "    def __init__(self, path=None):\n",
    "        self.tokenizer = AutoTokenizer.from_pretrained(\"google/electra-base-discriminator\")\n",
    "        if path is None:\n",
    "            self.model = AutoModel.from_pretrained(\"google/electra-base-discriminator\").to(DEVICE)\n",
    "        else:\n",
    "            self.model = torch.load(path).to(DEVICE)\n",
    "        self.pooling = MeanPooling()\n",
    "        self.model.eval()\n",
    "    \n",
    "    @torch.no_grad()\n",
    "    def forward(self, loader):\n",
    "        activations = []\n",
    "        for _, (t1, t2) in tqdm(enumerate(loader)):\n",
    "            tokenized1 = self.tokenizer(t1, padding=True, truncation=True, return_tensors=\"pt\")\n",
    "            tokenized2 = self.tokenizer(t2, padding=True, truncation=True, return_tensors=\"pt\")\n",
    "\n",
    "            tokenized_device1 = batch_to_device(tokenized1, DEVICE)\n",
    "            tokenized_device2 = batch_to_device(tokenized2, DEVICE)\n",
    "\n",
    "            out1 = self.model(**tokenized_device1, output_hidden_states=True).hidden_states\n",
    "            out_mean1 = self.pooling(torch.stack(out1), tokenized_device1[\"attention_mask\"])\n",
    "\n",
    "            out2 = self.model(**tokenized_device2, output_hidden_states=True).hidden_states\n",
    "            out_mean2 = self.pooling(torch.stack(out2), tokenized_device2[\"attention_mask\"])\n",
    "            \n",
    "            cos_sim = batch_cos_sim(out_mean1, out_mean2)\n",
    "            activations.append(cos_sim)\n",
    "        return torch.cat(activations, dim=1).detach()"
   ]
  },
  {
   "cell_type": "code",
   "execution_count": 48,
   "id": "c3c058b5",
   "metadata": {},
   "outputs": [
    {
     "name": "stderr",
     "output_type": "stream",
     "text": [
      "11it [00:02,  5.04it/s]\n"
     ]
    },
    {
     "name": "stdout",
     "output_type": "stream",
     "text": [
      "torch.Size([13, 1379])\n"
     ]
    },
    {
     "data": {
      "text/plain": [
       "[<matplotlib.lines.Line2D at 0x7f669a87f760>]"
      ]
     },
     "execution_count": 48,
     "metadata": {},
     "output_type": "execute_result"
    },
    {
     "data": {
      "image/png": "[encoded data removed]",
      "text/plain": [
       "<Figure size 640x480 with 1 Axes>"
      ]
     },
     "metadata": {},
     "output_type": "display_data"
    }
   ],
   "source": [
    "import torch.nn.functional as F \n",
    "import matplotlib.pyplot as plt\n",
    "\n",
    "\n",
    "electra = Electra()\n",
    "acts = electra.forward(loader)\n",
    "\n",
    "print(acts.shape)\n",
    "isotropies = []\n",
    "for k in range(13):\n",
    "    isotropies.append(acts[k].mean().cpu().tolist())\n",
    "    \n",
    "\n",
    "plt.ylim([0, 1])\n",
    "plt.plot(list(range(len(isotropies))), isotropies)"
   ]
  },
  {
   "cell_type": "code",
   "execution_count": 47,
   "id": "24287b9b",
   "metadata": {},
   "outputs": [
    {
     "name": "stderr",
     "output_type": "stream",
     "text": [
      "11it [00:02,  4.64it/s]\n"
     ]
    },
    {
     "name": "stdout",
     "output_type": "stream",
     "text": [
      "torch.Size([13, 1379])\n"
     ]
    },
    {
     "data": {
      "text/plain": [
       "[<matplotlib.lines.Line2D at 0x7f669a89c4f0>]"
      ]
     },
     "execution_count": 47,
     "metadata": {},
     "output_type": "execute_result"
    },
    {
     "data": {
      "image/png": "[encoded data removed]",
      "text/plain": [
       "<Figure size 640x480 with 1 Axes>"
      ]
     },
     "metadata": {},
     "output_type": "display_data"
    }
   ],
   "source": [
    "bert = Bert()\n",
    "acts = bert.forward(loader)\n",
    "\n",
    "print(acts.shape)\n",
    "isotropies = []\n",
    "for k in range(13):\n",
    "    isotropies.append(acts[k].mean().cpu().tolist())\n",
    "    \n",
    "plt.ylim([0, 1])\n",
    "plt.plot(list(range(len(isotropies))), isotropies)"
   ]
  },
  {
   "cell_type": "code",
   "execution_count": null,
   "id": "b7988909",
   "metadata": {},
   "outputs": [],
   "source": []
  }
 ],
 "metadata": {
  "kernelspec": {
   "display_name": "Python 3 (ipykernel)",
   "language": "python",
   "name": "python3"
  },
  "language_info": {
   "codemirror_mode": {
    "name": "ipython",
    "version": 3
   },
   "file_extension": ".py",
   "mimetype": "text/x-python",
   "name": "python",
   "nbconvert_exporter": "python",
   "pygments_lexer": "ipython3",
   "version": "3.10.12"
  }
 },
 "nbformat": 4,
 "nbformat_minor": 5
}
