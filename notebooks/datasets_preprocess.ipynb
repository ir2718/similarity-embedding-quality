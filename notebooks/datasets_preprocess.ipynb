{
 "cells": [
  {
   "cell_type": "code",
   "execution_count": 85,
   "id": "4794ec65",
   "metadata": {},
   "outputs": [],
   "source": [
    "import pandas as pd\n",
    "import numpy as np\n",
    "import os"
   ]
  },
  {
   "cell_type": "code",
   "execution_count": 86,
   "id": "55c29072",
   "metadata": {},
   "outputs": [
    {
     "data": {
      "text/plain": [
       "(7208, 3)"
      ]
     },
     "execution_count": 86,
     "metadata": {},
     "output_type": "execute_result"
    }
   ],
   "source": [
    "mc = pd.read_csv(\"../datasets/word_sim/mc-30.csv\")\n",
    "mc[\"similarity\"] = mc[\"similarity\"] / 4.\n",
    "\n",
    "rg = pd.read_csv(\"../datasets/word_sim/rg-65.csv\")\n",
    "rg[\"similarity\"] = rg[\"similarity\"] / 4.\n",
    "\n",
    "rw = pd.read_csv(\n",
    "    \"../datasets/word_sim/rw.txt\",\n",
    "    delimiter=\"\\t\",\n",
    "    names=\"word1,word2,similarity\".split(\",\"),\n",
    "    usecols=[0,1,2]\n",
    ")\n",
    "rw[\"similarity\"] = rw[\"similarity\"] / 10.\n",
    " \n",
    "semeval = pd.read_csv(\"../datasets/word_sim/semeval17.csv\", index_col=0)\n",
    "semeval[\"similarity\"] = semeval[\"similarity\"] / 4.\n",
    "\n",
    "simlex = pd.read_csv(\"../datasets/word_sim/SimLex-999.txt\", delimiter=\"\\t\")\n",
    "simlex[\"SimLex999\"] = simlex[\"SimLex999\"] / 10.\n",
    "simlex.rename({\"SimLex999\":\"similarity\"}, inplace=True, axis=1)\n",
    "\n",
    "simverb = pd.read_csv(\n",
    "    \"../datasets/word_sim/SimVerb-3500.txt\", \n",
    "    delimiter=\"\\t\", \n",
    "    header=None,\n",
    "    names=\"word1,word2,type,similarity,word_type\".split(\",\")\n",
    ")\n",
    "simverb[\"similarity\"] = simverb[\"similarity\"] / 10.\n",
    "\n",
    "verb143 = pd.read_csv(\"../datasets/word_sim/verb-143.csv\", index_col=0)\n",
    "verb143[\"similarity\"] = verb143[\"similarity\"] / 4.\n",
    "\n",
    "wordsim353 = pd.read_csv(\"../datasets/word_sim/wordsim353-sim.csv\", index_col=0)\n",
    "wordsim353[\"similarity\"] = wordsim353[\"similarity\"] / 10.\n",
    "\n",
    "yp = pd.read_csv(\"../datasets/word_sim/yp-130.csv\", index_col=0)\n",
    "yp[\"similarity\"] = yp[\"similarity\"] / 4.\n",
    "\n",
    "\n",
    "c = \"word1,word2,similarity\".split(\",\")\n",
    "final_df = pd.concat(\n",
    "    (mc[c], rg[c], rw[c], semeval[c], simlex[c], simverb[c], verb143[c], wordsim353[c], yp[c]),\n",
    ")\n",
    "final_df['sorted_pair'] = final_df[['word1', 'word2']].apply(lambda x: tuple(sorted(x)), axis=1)\n",
    "final_df = final_df.drop_duplicates(subset='sorted_pair', keep='first')\n",
    "final_df = final_df.drop(columns=['sorted_pair'])\n",
    "final_df.reset_index(inplace=True, drop=True)\n",
    "\n",
    "final_df.to_csv(\"../datasets/word_similarity_dataset.csv\")\n",
    "final_df.shape"
   ]
  },
  {
   "cell_type": "code",
   "execution_count": 87,
   "id": "4da882fd",
   "metadata": {},
   "outputs": [
    {
     "data": {
      "text/plain": [
       "(4308, 3)"
      ]
     },
     "execution_count": 87,
     "metadata": {},
     "output_type": "execute_result"
    }
   ],
   "source": [
    "men = pd.read_csv(\"../datasets/word_rel/men.csv\", index_col=0)\n",
    "men[\"similarity\"] = men[\"similarity\"] / 50.\n",
    "\n",
    "mturk287 = pd.read_csv(\"../datasets/word_rel/mturk-287.csv\", index_col=0)\n",
    "mturk287[\"similarity\"] = mturk287[\"similarity\"] / 5.\n",
    "\n",
    "mturk771 = pd.read_csv(\"../datasets/word_rel/mturk-771.csv\", index_col=0)\n",
    "mturk771[\"similarity\"] = mturk771[\"similarity\"] / 5.\n",
    "\n",
    "wordsim353rel = pd.read_csv(\"../datasets/word_rel/wordsim353-rel.csv\", index_col=0)\n",
    "wordsim353rel[\"similarity\"] = wordsim353rel[\"similarity\"] / 5.\n",
    "\n",
    "c = \"word1,word2,similarity\".split(\",\")\n",
    "final_df2 = pd.concat(\n",
    "    (men[c], mturk287[c], mturk771[c], wordsim353rel[c]),\n",
    ")\n",
    "final_df2['sorted_pair'] = final_df2[['word1', 'word2']].apply(lambda x: tuple(sorted(x)), axis=1)\n",
    "final_df2 = final_df2.drop_duplicates(subset='sorted_pair', keep='first')\n",
    "final_df2 = final_df2.drop(columns=['sorted_pair'])\n",
    "final_df2.reset_index(inplace=True, drop=True)\n",
    "\n",
    "final_df2.to_csv(\"../datasets/word_relatedness_dataset.csv\")\n",
    "final_df2.shape"
   ]
  },
  {
   "cell_type": "code",
   "execution_count": 88,
   "id": "830c3cc8",
   "metadata": {},
   "outputs": [
    {
     "data": {
      "text/plain": [
       "(11383, 3)"
      ]
     },
     "execution_count": 88,
     "metadata": {},
     "output_type": "execute_result"
    }
   ],
   "source": [
    "combined_df = pd.concat((final_df, final_df2))\n",
    "combined_df['sorted_pair'] = combined_df[['word1', 'word2']].apply(lambda x: tuple(sorted(x)), axis=1)\n",
    "combined_df = combined_df.drop_duplicates(subset='sorted_pair', keep='first')\n",
    "combined_df = combined_df.drop(columns=['sorted_pair'])\n",
    "combined_df.reset_index(inplace=True, drop=True)\n",
    "\n",
    "combined_df.to_csv(\"../datasets/word_similarity_and_relatedness.csv\")\n",
    "combined_df.shape"
   ]
  }
 ],
 "metadata": {
  "kernelspec": {
   "display_name": "Python 3 (ipykernel)",
   "language": "python",
   "name": "python3"
  },
  "language_info": {
   "codemirror_mode": {
    "name": "ipython",
    "version": 3
   },
   "file_extension": ".py",
   "mimetype": "text/x-python",
   "name": "python",
   "nbconvert_exporter": "python",
   "pygments_lexer": "ipython3",
   "version": "3.10.12"
  }
 },
 "nbformat": 4,
 "nbformat_minor": 5
}
