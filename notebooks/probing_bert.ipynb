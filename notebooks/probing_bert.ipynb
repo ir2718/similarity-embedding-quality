{
 "cells": [
  {
   "cell_type": "code",
   "execution_count": 1,
   "id": "06e2ec23",
   "metadata": {},
   "outputs": [],
   "source": [
    "from transformers import AutoTokenizer, AutoModel\n",
    "import senteval\n",
    "import torch\n",
    "import torch.nn as nn\n",
    "import json\n",
    "import os\n",
    "\n",
    "fs = os.listdir(\"..\")\n",
    "if not \"SentEval\" in fs:\n",
    "    %cd ./..\n",
    "    !git clone git@github.com:facebookresearch/SentEval.git\n",
    "    %cd notebooks\n",
    "    %mkdir data\n",
    "\n",
    "PATH_TO_DATA = \"../SentEval/data\"\n",
    "DEVICE = \"cuda:1\""
   ]
  },
  {
   "cell_type": "markdown",
   "id": "30bd8d42",
   "metadata": {},
   "source": [
    "# BERT"
   ]
  },
  {
   "cell_type": "code",
   "execution_count": 2,
   "id": "ea24af42",
   "metadata": {},
   "outputs": [],
   "source": [
    "def batch_to_device(d, device):\n",
    "    return {k: v.to(device) for k, v in d.items()}\n",
    "    \n",
    "class MeanPooling(nn.Module):\n",
    "    def __init__(self, starting_state):\n",
    "        super().__init__()\n",
    "        self.starting_state = starting_state\n",
    "\n",
    "    def forward(self, x, attention_mask):\n",
    "        input_mask_expanded = attention_mask.unsqueeze(-1).expand(x.size()).float()\n",
    "        emb_sum = torch.sum(x * input_mask_expanded, dim=1)\n",
    "        sum_mask = torch.clamp(input_mask_expanded.sum(dim=1), min=1e-9) # denominator\n",
    "        emb_mean = emb_sum / sum_mask\n",
    "        return emb_mean\n",
    "\n",
    "    \n",
    "class Bert:\n",
    "\n",
    "    def __init__(self, starting_state=12, path=None):\n",
    "        self.tokenizer = AutoTokenizer.from_pretrained(\"bert-base-cased\")\n",
    "        if path is None:\n",
    "            self.model = AutoModel.from_pretrained(\"bert-base-cased\").to(DEVICE)\n",
    "        else:\n",
    "            self.model = torch.load(path).to(DEVICE)\n",
    "        self.pooling = MeanPooling(starting_state)\n",
    "    \n",
    "    def prepare(self, params, samples):\n",
    "        pass \n",
    "    \n",
    "    @torch.no_grad()\n",
    "    def batcher(self, params, batch):\n",
    "        tokenized_batch = self.tokenizer(\n",
    "            batch, truncation=True, padding=True, return_tensors=\"pt\", is_split_into_words=True\n",
    "        )\n",
    "        batch_device = batch_to_device(tokenized_batch, DEVICE)\n",
    "        out = self.model(\n",
    "            **batch_device, output_hidden_states=True\n",
    "        ).hidden_states[self.pooling.starting_state]\n",
    "        out_mean = self.pooling(out, batch_device[\"attention_mask\"])\n",
    "        return out_mean.cpu()\n"
   ]
  },
  {
   "cell_type": "code",
   "execution_count": 3,
   "id": "f2a1a6c6",
   "metadata": {},
   "outputs": [],
   "source": [
    "models = [\n",
    "    'model_2024_01_18_01_47', \n",
    "    'model_2024_01_18_01_48', \n",
    "    'model_2024_01_18_01_50', \n",
    "    'model_2024_01_18_01_52', \n",
    "    'model_2024_01_18_01_54', \n",
    "    'model_2024_01_18_01_56', \n",
    "    'model_2024_01_18_01_59', \n",
    "    'model_2024_01_18_02_01', \n",
    "    'model_2024_01_18_02_04', \n",
    "    'model_2024_01_18_02_07', \n",
    "    'model_2024_01_18_02_10', \n",
    "    'model_2024_01_18_02_13', \n",
    "    'model_2024_01_17_17_23'\n",
    "]"
   ]
  },
  {
   "cell_type": "code",
   "execution_count": 5,
   "id": "e46ec115",
   "metadata": {},
   "outputs": [
    {
     "name": "stdout",
     "output_type": "stream",
     "text": [
      "72.95\n",
      "68.7\n",
      "68.21\n",
      "66.58\n",
      "62.76\n",
      "57.84\n",
      "56.17\n",
      "57.13\n"
     ]
    }
   ],
   "source": [
    "word_content_bert = []\n",
    "for i, model_path in enumerate(models):\n",
    "    if i < 5:\n",
    "        continue\n",
    "    params = {'task_path': PATH_TO_DATA, 'usepytorch': True, 'kfold': 10}\n",
    "    params['classifier'] = {'nhid': 0, 'optim': 'adam', 'batch_size': 64, 'tenacity': 5, 'epoch_size': 4}\n",
    "\n",
    "    bert = Bert(starting_state=i, path=f\"../output/bert-base-cased/mean/{i}_to_{i+1}/{model_path}.pkl\")\n",
    "    se = senteval.engine.SE(params, bert.batcher, bert.prepare)\n",
    "\n",
    "    transfer_tasks = [\n",
    "        'WordContent', \n",
    "    ]\n",
    "\n",
    "    results = se.eval(transfer_tasks)\n",
    "    print(results[\"WordContent\"][\"devacc\"])\n",
    "    word_content_bert.append(results[\"WordContent\"][\"devacc\"])"
   ]
  },
  {
   "cell_type": "code",
   "execution_count": 8,
   "id": "05288323",
   "metadata": {},
   "outputs": [
    {
     "name": "stdout",
     "output_type": "stream",
     "text": [
      "13\n"
     ]
    },
    {
     "data": {
      "text/plain": [
       "[<matplotlib.lines.Line2D at 0x7f48efe7c0d0>]"
      ]
     },
     "execution_count": 8,
     "metadata": {},
     "output_type": "execute_result"
    },
    {
     "data": {
      "image/png": "[encoded data removed]",
      "text/plain": [
       "<Figure size 640x480 with 1 Axes>"
      ]
     },
     "metadata": {},
     "output_type": "display_data"
    }
   ],
   "source": [
    "values = [94.36, 87.36, 84.38, 80.23, 77.09, 72.95,\n",
    "68.7,\n",
    "68.21,\n",
    "66.58,\n",
    "62.76,\n",
    "57.84,\n",
    "56.17,\n",
    "57.13]\n",
    "\n",
    "print(len(values))\n",
    "import matplotlib.pyplot as plt\n",
    "plt.plot(values)"
   ]
  }
 ],
 "metadata": {
  "kernelspec": {
   "display_name": "Python 3 (ipykernel)",
   "language": "python",
   "name": "python3"
  },
  "language_info": {
   "codemirror_mode": {
    "name": "ipython",
    "version": 3
   },
   "file_extension": ".py",
   "mimetype": "text/x-python",
   "name": "python",
   "nbconvert_exporter": "python",
   "pygments_lexer": "ipython3",
   "version": "3.10.12"
  }
 },
 "nbformat": 4,
 "nbformat_minor": 5
}
