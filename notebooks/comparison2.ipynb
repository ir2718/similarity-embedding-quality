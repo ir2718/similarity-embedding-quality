{
 "cells": [
  {
   "cell_type": "code",
   "execution_count": null,
   "id": "cd660688",
   "metadata": {},
   "outputs": [],
   "source": [
    "from transformers import AutoModel, AutoTokenizer\n",
    "from tqdm import tqdm\n",
    "import pandas as pd\n",
    "import torch\n",
    "import torch.nn.functional as F\n",
    "import os\n",
    "import gzip\n",
    "import csv\n",
    "import matplotlib.pyplot as plt"
   ]
  },
  {
   "cell_type": "code",
   "execution_count": null,
   "id": "e9fbce60",
   "metadata": {},
   "outputs": [],
   "source": [
    "sts_dataset_path = '../datasets/stsbenchmark.tsv.gz'\n",
    "\n",
    "if not os.path.exists(sts_dataset_path):\n",
    "    util.http_get('https://sbert.net/datasets/stsbenchmark.tsv.gz', sts_dataset_path)\n"
   ]
  },
  {
   "cell_type": "code",
   "execution_count": null,
   "id": "bad1064d",
   "metadata": {},
   "outputs": [],
   "source": [
    "train_samples = []\n",
    "dev_samples = []\n",
    "test_samples = []\n",
    "with gzip.open(sts_dataset_path, 'rt', encoding='utf8') as f_in:\n",
    "    df = pd.read_csv(f_in, delimiter='\\t', quoting=csv.QUOTE_NONE)\n",
    "    df_train = df[df[\"split\"] == \"train\"]\n",
    "    df_other = df[df[\"split\"] != \"train\"]\n",
    "    \n",
    "display(df_train.head())\n",
    "display(df_other.head())"
   ]
  },
  {
   "cell_type": "code",
   "execution_count": null,
   "id": "9f3b81e4",
   "metadata": {},
   "outputs": [],
   "source": [
    "train_examples = []\n",
    "other_examples = []\n",
    "\n",
    "for i, x in df_train.iterrows():\n",
    "    train_examples.append((x['sentence1'], x['sentence2'], x[\"score\"]/5.0))\n",
    "    \n",
    "for i, x in df_other.iterrows():\n",
    "    other_examples.append((x['sentence1'], x['sentence2'], x[\"score\"]/5.0))\n",
    "    \n",
    "len(train_examples), len(other_examples)"
   ]
  },
  {
   "cell_type": "code",
   "execution_count": null,
   "id": "d3358be7",
   "metadata": {},
   "outputs": [],
   "source": [
    "models = [\n",
    "    \"bert-base-cased\", \"roberta-base\", \"microsoft/deberta-base\", \"google/electra-base-discriminator\", \"microsoft/deberta-v3-base\", \"albert-base-v2\"\n",
    "]\n",
    "models_dict = {k:[] for k in models}\n",
    "\n",
    "models_dict"
   ]
  },
  {
   "cell_type": "code",
   "execution_count": null,
   "id": "897ac405",
   "metadata": {},
   "outputs": [],
   "source": [
    "device = \"cuda:0\"\n",
    "\n",
    "def batch_to_device(x):\n",
    "    return {k: v.to(device) for k, v in x.items()}\n",
    "\n",
    "for m in models:\n",
    "    auto_model = AutoModel.from_pretrained(m).to(device)\n",
    "    tokenizer = AutoTokenizer.from_pretrained(m)\n",
    "\n",
    "    l = []\n",
    "    with torch.no_grad():\n",
    "        for t in tqdm(train_examples):\n",
    "            tokenized1 = batch_to_device(\n",
    "                tokenizer(t[0], padding=\"do_not_pad\", return_tensors=\"pt\")\n",
    "            )\n",
    "            out1 = auto_model(**tokenized1).last_hidden_state\n",
    "            dev1 = out1.std(dim=1)\n",
    "            \n",
    "            \n",
    "            tokenized2 = batch_to_device(\n",
    "                tokenizer(t[1], padding=\"do_not_pad\", return_tensors=\"pt\")\n",
    "            )\n",
    "            out2 = auto_model(**tokenized2).last_hidden_state\n",
    "            dev2 = out2.std(dim=1)\n",
    "            \n",
    "            error = torch.exp((torch.abs(dev1) - torch.abs(dev2))**2)[0]\n",
    "            l.append(error.detach().cpu().tolist())\n",
    "            \n",
    "    models_dict[m] = l"
   ]
  }
 ],
 "metadata": {
  "kernelspec": {
   "display_name": "Python 3 (ipykernel)",
   "language": "python",
   "name": "python3"
  },
  "language_info": {
   "codemirror_mode": {
    "name": "ipython",
    "version": 3
   },
   "file_extension": ".py",
   "mimetype": "text/x-python",
   "name": "python",
   "nbconvert_exporter": "python",
   "pygments_lexer": "ipython3",
   "version": "3.10.12"
  }
 },
 "nbformat": 4,
 "nbformat_minor": 5
}
